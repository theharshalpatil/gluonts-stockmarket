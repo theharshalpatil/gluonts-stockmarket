{
 "cells": [
  {
   "cell_type": "code",
   "execution_count": 1,
   "id": "372b469b",
   "metadata": {},
   "outputs": [],
   "source": [
    "%matplotlib inline\n",
    "import mxnet as mx\n",
    "from mxnet import gluon\n",
    "import numpy as np\n",
    "import pandas as pd\n",
    "import matplotlib.pyplot as plt\n",
    "import json\n",
    "\n",
    "import warnings\n",
    "warnings.filterwarnings('ignore')"
   ]
  },
  {
   "cell_type": "code",
   "execution_count": 4,
   "id": "ee3c7f38",
   "metadata": {},
   "outputs": [],
   "source": [
    "# define the parameters of the dataset\n",
    "custom_ds_metadata = {\n",
    "    'num_series': 100,\n",
    "    'num_steps': 24 * 7,\n",
    "    'prediction_length': 24,\n",
    "    'freq': '1H',\n",
    "    'start': [\n",
    "        pd.Timestamp(\"01-01-2019\", freq='1H')\n",
    "        for _ in range(100)\n",
    "    ]\n",
    "}"
   ]
  },
  {
   "cell_type": "code",
   "execution_count": 21,
   "id": "649fc14f",
   "metadata": {},
   "outputs": [],
   "source": [
    "# pattern - sinusoid with different phase\n",
    "period = 4\n",
    "mu = 1\n",
    "sigma = 3\n",
    "num_steps = 4*7\n",
    "num_series = 2\n",
    "sin_minusPi_Pi = np.sin(np.tile(np.linspace(-np.pi, np.pi, period), int(num_steps / period)))\n",
    "sin_Zero_2Pi = np.sin(np.tile(np.linspace(0, 2 * np.pi, 4), int(num_steps / period)))"
   ]
  },
  {
   "cell_type": "code",
   "execution_count": 22,
   "id": "79842f7e",
   "metadata": {},
   "outputs": [
    {
     "data": {
      "text/plain": [
       "array([-1.22464680e-16, -8.66025404e-01,  8.66025404e-01,  1.22464680e-16,\n",
       "       -1.22464680e-16, -8.66025404e-01,  8.66025404e-01,  1.22464680e-16,\n",
       "       -1.22464680e-16, -8.66025404e-01,  8.66025404e-01,  1.22464680e-16,\n",
       "       -1.22464680e-16, -8.66025404e-01,  8.66025404e-01,  1.22464680e-16,\n",
       "       -1.22464680e-16, -8.66025404e-01,  8.66025404e-01,  1.22464680e-16,\n",
       "       -1.22464680e-16, -8.66025404e-01,  8.66025404e-01,  1.22464680e-16,\n",
       "       -1.22464680e-16, -8.66025404e-01,  8.66025404e-01,  1.22464680e-16])"
      ]
     },
     "execution_count": 22,
     "metadata": {},
     "output_type": "execute_result"
    }
   ],
   "source": [
    "sin_minusPi_Pi"
   ]
  },
  {
   "cell_type": "code",
   "execution_count": 23,
   "id": "7db6515f",
   "metadata": {},
   "outputs": [
    {
     "data": {
      "text/plain": [
       "array([ 0.00000000e+00,  8.66025404e-01, -8.66025404e-01, -2.44929360e-16,\n",
       "        0.00000000e+00,  8.66025404e-01, -8.66025404e-01, -2.44929360e-16,\n",
       "        0.00000000e+00,  8.66025404e-01, -8.66025404e-01, -2.44929360e-16,\n",
       "        0.00000000e+00,  8.66025404e-01, -8.66025404e-01, -2.44929360e-16,\n",
       "        0.00000000e+00,  8.66025404e-01, -8.66025404e-01, -2.44929360e-16,\n",
       "        0.00000000e+00,  8.66025404e-01, -8.66025404e-01, -2.44929360e-16,\n",
       "        0.00000000e+00,  8.66025404e-01, -8.66025404e-01, -2.44929360e-16])"
      ]
     },
     "execution_count": 23,
     "metadata": {},
     "output_type": "execute_result"
    }
   ],
   "source": [
    "sin_Zero_2Pi"
   ]
  },
  {
   "cell_type": "code",
   "execution_count": 24,
   "id": "103ed6c1",
   "metadata": {},
   "outputs": [],
   "source": [
    "noise = np.random.normal(mu, sigma, size=(num_series, num_steps))"
   ]
  },
  {
   "cell_type": "code",
   "execution_count": 25,
   "id": "7c4b388b",
   "metadata": {},
   "outputs": [],
   "source": [
    "pattern = np.concatenate(\n",
    "        (\n",
    "            np.tile(\n",
    "                sin_minusPi_Pi.reshape(1, -1),\n",
    "                (int(np.ceil(num_series / 2)),1)\n",
    "            ),\n",
    "            np.tile(\n",
    "                sin_Zero_2Pi.reshape(1, -1),\n",
    "                (int(np.floor(num_series / 2)), 1)\n",
    "            )\n",
    "        ),\n",
    "        axis=0\n",
    "    )"
   ]
  },
  {
   "cell_type": "code",
   "execution_count": 26,
   "id": "3ac3ba65",
   "metadata": {},
   "outputs": [
    {
     "data": {
      "text/plain": [
       "array([[-1.22464680e-16, -8.66025404e-01,  8.66025404e-01,\n",
       "         1.22464680e-16, -1.22464680e-16, -8.66025404e-01,\n",
       "         8.66025404e-01,  1.22464680e-16, -1.22464680e-16,\n",
       "        -8.66025404e-01,  8.66025404e-01,  1.22464680e-16,\n",
       "        -1.22464680e-16, -8.66025404e-01,  8.66025404e-01,\n",
       "         1.22464680e-16, -1.22464680e-16, -8.66025404e-01,\n",
       "         8.66025404e-01,  1.22464680e-16, -1.22464680e-16,\n",
       "        -8.66025404e-01,  8.66025404e-01,  1.22464680e-16,\n",
       "        -1.22464680e-16, -8.66025404e-01,  8.66025404e-01,\n",
       "         1.22464680e-16],\n",
       "       [ 0.00000000e+00,  8.66025404e-01, -8.66025404e-01,\n",
       "        -2.44929360e-16,  0.00000000e+00,  8.66025404e-01,\n",
       "        -8.66025404e-01, -2.44929360e-16,  0.00000000e+00,\n",
       "         8.66025404e-01, -8.66025404e-01, -2.44929360e-16,\n",
       "         0.00000000e+00,  8.66025404e-01, -8.66025404e-01,\n",
       "        -2.44929360e-16,  0.00000000e+00,  8.66025404e-01,\n",
       "        -8.66025404e-01, -2.44929360e-16,  0.00000000e+00,\n",
       "         8.66025404e-01, -8.66025404e-01, -2.44929360e-16,\n",
       "         0.00000000e+00,  8.66025404e-01, -8.66025404e-01,\n",
       "        -2.44929360e-16]])"
      ]
     },
     "execution_count": 26,
     "metadata": {},
     "output_type": "execute_result"
    }
   ],
   "source": [
    "pattern"
   ]
  },
  {
   "cell_type": "code",
   "execution_count": 27,
   "id": "de32e49a",
   "metadata": {},
   "outputs": [],
   "source": [
    "target = noise + pattern"
   ]
  },
  {
   "cell_type": "code",
   "execution_count": 28,
   "id": "60f04c97",
   "metadata": {},
   "outputs": [
    {
     "data": {
      "text/plain": [
       "array([[ 2.09010763, -0.41318195,  5.00762719,  4.33069581, -1.40095061,\n",
       "         2.60246174, -1.63097461,  0.17736774,  1.0540663 , -7.20620816,\n",
       "        -1.88612126,  0.29748081, -5.44516384, -1.75954775,  2.87367922,\n",
       "        -3.7996369 ,  1.11990647, -0.65606992, -0.64906578,  3.23278006,\n",
       "         0.15838167, -0.06088533, 11.35859876, -1.02416723,  6.1449854 ,\n",
       "         0.70585489,  3.24955491,  0.49726386],\n",
       "       [ 4.71347304,  3.83775038,  5.01899694, -1.79945097,  2.80885843,\n",
       "         0.65856029, -2.95057702, -0.63742993,  0.31825404,  0.46037696,\n",
       "         1.88070498,  4.58400082,  1.62283974,  4.34965186,  0.29975393,\n",
       "         4.64840522, -1.90266333,  0.65416618, -4.01414465,  0.03833083,\n",
       "         5.66436101,  0.04992216,  1.35743375,  5.53865319,  1.82035351,\n",
       "         1.48393504,  6.77843815,  3.47795146]])"
      ]
     },
     "execution_count": 28,
     "metadata": {},
     "output_type": "execute_result"
    }
   ],
   "source": [
    "target"
   ]
  },
  {
   "cell_type": "code",
   "execution_count": 29,
   "id": "996f3e7a",
   "metadata": {},
   "outputs": [],
   "source": [
    "feat_dynamic_real = np.concatenate(\n",
    "    (\n",
    "        np.zeros((num_series, period)),\n",
    "        target[:, :-period]\n",
    "    ),\n",
    "    axis=1\n",
    ")\n",
    "\n",
    "# create categorical static feats: use the sinusoid type as a categorical feature\n",
    "feat_static_cat = np.concatenate(\n",
    "    (\n",
    "        np.zeros(int(np.ceil(num_series / 2))),\n",
    "        np.ones(int(np.floor(num_series / 2)))\n",
    "    ),\n",
    "    axis=0\n",
    ")"
   ]
  },
  {
   "cell_type": "code",
   "execution_count": 30,
   "id": "6a8dca28",
   "metadata": {},
   "outputs": [
    {
     "data": {
      "text/plain": [
       "array([[ 0.        ,  0.        ,  0.        ,  0.        ,  2.09010763,\n",
       "        -0.41318195,  5.00762719,  4.33069581, -1.40095061,  2.60246174,\n",
       "        -1.63097461,  0.17736774,  1.0540663 , -7.20620816, -1.88612126,\n",
       "         0.29748081, -5.44516384, -1.75954775,  2.87367922, -3.7996369 ,\n",
       "         1.11990647, -0.65606992, -0.64906578,  3.23278006,  0.15838167,\n",
       "        -0.06088533, 11.35859876, -1.02416723],\n",
       "       [ 0.        ,  0.        ,  0.        ,  0.        ,  4.71347304,\n",
       "         3.83775038,  5.01899694, -1.79945097,  2.80885843,  0.65856029,\n",
       "        -2.95057702, -0.63742993,  0.31825404,  0.46037696,  1.88070498,\n",
       "         4.58400082,  1.62283974,  4.34965186,  0.29975393,  4.64840522,\n",
       "        -1.90266333,  0.65416618, -4.01414465,  0.03833083,  5.66436101,\n",
       "         0.04992216,  1.35743375,  5.53865319]])"
      ]
     },
     "execution_count": 30,
     "metadata": {},
     "output_type": "execute_result"
    }
   ],
   "source": [
    "feat_dynamic_real"
   ]
  },
  {
   "cell_type": "code",
   "execution_count": 31,
   "id": "e1cc1e8a",
   "metadata": {},
   "outputs": [
    {
     "data": {
      "text/plain": [
       "array([0., 1.])"
      ]
     },
     "execution_count": 31,
     "metadata": {},
     "output_type": "execute_result"
    }
   ],
   "source": [
    "feat_static_cat"
   ]
  },
  {
   "cell_type": "code",
   "execution_count": null,
   "id": "626f99ed",
   "metadata": {},
   "outputs": [],
   "source": []
  }
 ],
 "metadata": {
  "kernelspec": {
   "display_name": "Python 3",
   "language": "python",
   "name": "python3"
  },
  "language_info": {
   "codemirror_mode": {
    "name": "ipython",
    "version": 3
   },
   "file_extension": ".py",
   "mimetype": "text/x-python",
   "name": "python",
   "nbconvert_exporter": "python",
   "pygments_lexer": "ipython3",
   "version": "3.8.8"
  }
 },
 "nbformat": 4,
 "nbformat_minor": 5
}
