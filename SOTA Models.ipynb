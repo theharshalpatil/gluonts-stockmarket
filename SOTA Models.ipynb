{
 "cells": [
  {
   "cell_type": "code",
   "execution_count": 1,
   "id": "13181b02",
   "metadata": {},
   "outputs": [],
   "source": [
    "%matplotlib inline\n",
    "import mxnet as mx\n",
    "from mxnet import gluon\n",
    "import numpy as np\n",
    "import pandas as pd\n",
    "import matplotlib.pyplot as plt\n",
    "import json\n",
    "\n",
    "import warnings\n",
    "warnings.filterwarnings('ignore')"
   ]
  },
  {
   "cell_type": "markdown",
   "id": "fa03c318",
   "metadata": {},
   "source": [
    "### Custom Datasets"
   ]
  },
  {
   "cell_type": "code",
   "execution_count": 2,
   "id": "896ff49c",
   "metadata": {},
   "outputs": [],
   "source": [
    "from gluonts.dataset.field_names import FieldName\n",
    "from gluonts.dataset.common import ListDataset\n",
    "from gluonts.dataset.util import to_pandas"
   ]
  },
  {
   "cell_type": "code",
   "execution_count": 3,
   "id": "73a9bae4",
   "metadata": {},
   "outputs": [
    {
     "data": {
      "text/html": [
       "<div>\n",
       "<style scoped>\n",
       "    .dataframe tbody tr th:only-of-type {\n",
       "        vertical-align: middle;\n",
       "    }\n",
       "\n",
       "    .dataframe tbody tr th {\n",
       "        vertical-align: top;\n",
       "    }\n",
       "\n",
       "    .dataframe thead th {\n",
       "        text-align: right;\n",
       "    }\n",
       "</style>\n",
       "<table border=\"1\" class=\"dataframe\">\n",
       "  <thead>\n",
       "    <tr style=\"text-align: right;\">\n",
       "      <th></th>\n",
       "      <th>Date</th>\n",
       "      <th>Open</th>\n",
       "      <th>High</th>\n",
       "      <th>Low</th>\n",
       "      <th>Close</th>\n",
       "      <th>Log_Volume</th>\n",
       "    </tr>\n",
       "  </thead>\n",
       "  <tbody>\n",
       "    <tr>\n",
       "      <th>0</th>\n",
       "      <td>2011-01-03</td>\n",
       "      <td>6177.45</td>\n",
       "      <td>6178.55</td>\n",
       "      <td>6147.20</td>\n",
       "      <td>6157.60</td>\n",
       "      <td>18.380157</td>\n",
       "    </tr>\n",
       "    <tr>\n",
       "      <th>1</th>\n",
       "      <td>2011-01-04</td>\n",
       "      <td>6172.75</td>\n",
       "      <td>6181.05</td>\n",
       "      <td>6124.40</td>\n",
       "      <td>6146.35</td>\n",
       "      <td>19.018021</td>\n",
       "    </tr>\n",
       "    <tr>\n",
       "      <th>2</th>\n",
       "      <td>2011-01-05</td>\n",
       "      <td>6141.35</td>\n",
       "      <td>6141.35</td>\n",
       "      <td>6062.35</td>\n",
       "      <td>6079.80</td>\n",
       "      <td>18.754393</td>\n",
       "    </tr>\n",
       "    <tr>\n",
       "      <th>3</th>\n",
       "      <td>2011-01-06</td>\n",
       "      <td>6107.00</td>\n",
       "      <td>6116.15</td>\n",
       "      <td>6022.30</td>\n",
       "      <td>6048.25</td>\n",
       "      <td>18.841619</td>\n",
       "    </tr>\n",
       "    <tr>\n",
       "      <th>4</th>\n",
       "      <td>2011-01-07</td>\n",
       "      <td>6030.90</td>\n",
       "      <td>6051.20</td>\n",
       "      <td>5883.60</td>\n",
       "      <td>5904.60</td>\n",
       "      <td>18.961895</td>\n",
       "    </tr>\n",
       "  </tbody>\n",
       "</table>\n",
       "</div>"
      ],
      "text/plain": [
       "        Date     Open     High      Low    Close  Log_Volume\n",
       "0 2011-01-03  6177.45  6178.55  6147.20  6157.60   18.380157\n",
       "1 2011-01-04  6172.75  6181.05  6124.40  6146.35   19.018021\n",
       "2 2011-01-05  6141.35  6141.35  6062.35  6079.80   18.754393\n",
       "3 2011-01-06  6107.00  6116.15  6022.30  6048.25   18.841619\n",
       "4 2011-01-07  6030.90  6051.20  5883.60  5904.60   18.961895"
      ]
     },
     "execution_count": 3,
     "metadata": {},
     "output_type": "execute_result"
    }
   ],
   "source": [
    "data = pd.read_csv(\"./data/data.csv\")\n",
    "data['Date'] = pd.to_datetime(data['Date'], format='%d-%b-%y')\n",
    "# Dropping Turnover as it's not used for model building\n",
    "data = data.drop(\"Turnover (Rs. Cr)\", axis=1)\n",
    "# Renaming 'Shared Traded' to 'Volume' as referred in the Thesis\n",
    "data.rename(columns = {'Shares Traded': 'Volume'}, inplace = True)\n",
    "# Getting log of 'Volume' to make it comparable to other independent variables\n",
    "data['Log_Volume'] = np.log(data['Volume'])\n",
    "data = data.drop(\"Volume\", axis=1)\n",
    "data.head()"
   ]
  },
  {
   "cell_type": "code",
   "execution_count": 4,
   "id": "e269c606",
   "metadata": {},
   "outputs": [
    {
     "data": {
      "text/plain": [
       "2621"
      ]
     },
     "execution_count": 4,
     "metadata": {},
     "output_type": "execute_result"
    }
   ],
   "source": [
    "len(data)"
   ]
  },
  {
   "cell_type": "markdown",
   "id": "870ee60c",
   "metadata": {},
   "source": [
    "We want to predict the next 5 business days on the basis of the past 100 business days.\n",
    "\n",
    "We aim to include the first 2100 time-steps in our training set and the remaining 512 time-steps in our test set. In order to create a GluonTS freindly dataset, we divide the 2100 time-steps into 1994 individual series' of 105 time-steps which will be used for training. Similarly, test set shall be divided into individual series' of 105 time-steps for predictions."
   ]
  },
  {
   "cell_type": "code",
   "execution_count": 5,
   "id": "5718aac1",
   "metadata": {},
   "outputs": [
    {
     "data": {
      "text/plain": [
       "[\"FieldName.ITEM_ID = 'item_id'\",\n",
       " \"FieldName.START = 'start'\",\n",
       " \"FieldName.TARGET = 'target'\",\n",
       " \"FieldName.FEAT_STATIC_CAT = 'feat_static_cat'\",\n",
       " \"FieldName.FEAT_STATIC_REAL = 'feat_static_real'\",\n",
       " \"FieldName.FEAT_DYNAMIC_CAT = 'feat_dynamic_cat'\",\n",
       " \"FieldName.FEAT_DYNAMIC_REAL = 'feat_dynamic_real'\",\n",
       " \"FieldName.PAST_FEAT_DYNAMIC_REAL = 'past_feat_dynamic_real'\",\n",
       " \"FieldName.FEAT_DYNAMIC_REAL_LEGACY = 'dynamic_feat'\",\n",
       " \"FieldName.FEAT_DYNAMIC = 'feat_dynamic'\",\n",
       " \"FieldName.PAST_FEAT_DYNAMIC = 'past_feat_dynamic'\",\n",
       " \"FieldName.FEAT_TIME = 'time_feat'\",\n",
       " \"FieldName.FEAT_CONST = 'feat_dynamic_const'\",\n",
       " \"FieldName.FEAT_AGE = 'feat_dynamic_age'\",\n",
       " \"FieldName.OBSERVED_VALUES = 'observed_values'\",\n",
       " \"FieldName.IS_PAD = 'is_pad'\",\n",
       " \"FieldName.FORECAST_START = 'forecast_start'\",\n",
       " \"FieldName.TARGET_DIM_INDICATOR = 'target_dimension_indicator'\"]"
      ]
     },
     "execution_count": 5,
     "metadata": {},
     "output_type": "execute_result"
    }
   ],
   "source": [
    "[f\"FieldName.{k} = '{v}'\" for k, v in FieldName.__dict__.items() if not k.startswith('_')]"
   ]
  },
  {
   "cell_type": "markdown",
   "id": "6308ca67",
   "metadata": {},
   "source": [
    "# Test - Train Split (For Visualization)"
   ]
  },
  {
   "cell_type": "code",
   "execution_count": 6,
   "id": "a67b3f6f",
   "metadata": {},
   "outputs": [],
   "source": [
    "nifty_data_metadata = {\n",
    "    'num_series': 10,  # Determine this\n",
    "    'num_steps': 5 + 5,\n",
    "    'context_length': 5, # Number of datapoints to use, changing as per Thesis 3.2.2\n",
    "    'prediction_length': 5, # Number of datapoints to predict\n",
    "    'freq': '1B',\n",
    "    'train_len': 2100\n",
    "}"
   ]
  },
  {
   "cell_type": "code",
   "execution_count": 7,
   "id": "535eb74c",
   "metadata": {},
   "outputs": [],
   "source": [
    "def extract_windows(arr, start_time_idx, max_time_idx, sub_window_size, time_lag=0):\n",
    "    # Introduce time-lag by appending zeros\n",
    "    assert(time_lag >= 0)\n",
    "    arr = np.hstack(([0]*time_lag,arr))[:len(arr)]\n",
    "    \n",
    "    # Extract examples using sliding window\n",
    "    examples = []\n",
    "    start = start_time_idx\n",
    "    end = max_time_idx - sub_window_size\n",
    "    \n",
    "    for i in range(end + 1):\n",
    "        example = arr[start_time_idx+i:start_time_idx+sub_window_size+i]\n",
    "        examples.append(np.expand_dims(example, 0))\n",
    "    \n",
    "    return np.vstack(examples)"
   ]
  },
  {
   "cell_type": "code",
   "execution_count": 8,
   "id": "49e268fb",
   "metadata": {},
   "outputs": [],
   "source": [
    "def create_dataset(num_series, num_steps, period=5):\n",
    "    # target - will be our Close price. Last index considered for forecast 2620 with a window size of 105\n",
    "    target = extract_windows(np.array(data['Close']).flatten(), 0, data['Close'].shape[0], num_steps)\n",
    "    \n",
    "    start = extract_windows(data.index, 0, data.index.shape[0], num_steps).astype(int)\n",
    "    start = np.vstack(data['Date'][datearr[0]] for datearr in start)\n",
    "    start = [s.strftime(\"%Y-%m-%d %H:%M:%S\") for s in start.flatten()]\n",
    "    \n",
    "    # create time features - open, high, low, close, volume (5 features) until 1B period earlier, append with zeros\n",
    "    feat_dynamic_real = extract_windows(np.array(data['Open']), 0, data['Open'].shape[0], num_steps, time_lag=1)\n",
    "    # Q: How to add other features to feat_dynamic_real?\n",
    "    \n",
    "    return target, start, feat_dynamic_real"
   ]
  },
  {
   "cell_type": "code",
   "execution_count": 9,
   "id": "a176d725",
   "metadata": {},
   "outputs": [
    {
     "data": {
      "text/plain": [
       "array([[    0.  ,  6177.45,  6172.75, ...,  5767.95,  5800.05,  5850.75],\n",
       "       [ 6177.45,  6172.75,  6141.35, ...,  5800.05,  5850.75,  5752.1 ],\n",
       "       [ 6172.75,  6141.35,  6107.  , ...,  5850.75,  5752.1 ,  5648.8 ],\n",
       "       ...,\n",
       "       [15794.  , 15808.7 , 15872.15, ..., 15856.8 , 15849.3 , 15860.5 ],\n",
       "       [15808.7 , 15872.15, 15958.35, ..., 15849.3 , 15860.5 , 15761.55],\n",
       "       [15872.15, 15958.35, 15754.5 , ..., 15860.5 , 15761.55, 15762.7 ]])"
      ]
     },
     "execution_count": 9,
     "metadata": {},
     "output_type": "execute_result"
    }
   ],
   "source": [
    "data_out = create_dataset(\n",
    "    nifty_data_metadata['num_series'],\n",
    "    nifty_data_metadata['num_steps'],\n",
    "    nifty_data_metadata['prediction_length']\n",
    ")\n",
    "target, start, feat_dynamic_real = data_out\n",
    "nifty_data_metadata['num_series'] = len(start)\n",
    "feat_dynamic_real"
   ]
  },
  {
   "cell_type": "code",
   "execution_count": 10,
   "id": "1a9f295e",
   "metadata": {},
   "outputs": [
    {
     "name": "stdout",
     "output_type": "stream",
     "text": [
      "(2612, 10) 2612 (2612, 10)\n"
     ]
    }
   ],
   "source": [
    "print(target.shape, len(start), feat_dynamic_real.shape)"
   ]
  },
  {
   "cell_type": "markdown",
   "id": "52b9f0b5",
   "metadata": {},
   "source": [
    "We can easily create the train and test datasets by simply filling in the correct fields. Remember that for the train dataset we need to cut the last window."
   ]
  },
  {
   "cell_type": "code",
   "execution_count": 11,
   "id": "de7e3584",
   "metadata": {},
   "outputs": [
    {
     "data": {
      "text/plain": [
       "['2011-01-03 00:00:00',\n",
       " '2011-01-04 00:00:00',\n",
       " '2011-01-05 00:00:00',\n",
       " '2011-01-06 00:00:00']"
      ]
     },
     "execution_count": 11,
     "metadata": {},
     "output_type": "execute_result"
    }
   ],
   "source": [
    "start[:4]"
   ]
  },
  {
   "cell_type": "code",
   "execution_count": 12,
   "id": "278e3491",
   "metadata": {},
   "outputs": [
    {
     "data": {
      "text/plain": [
       "array([[ 6157.6 ,  6146.35,  6079.8 , ...,  5863.25,  5751.9 ,  5654.55],\n",
       "       [ 6146.35,  6079.8 ,  6048.25, ...,  5751.9 ,  5654.55,  5654.75],\n",
       "       [ 6079.8 ,  6048.25,  5904.6 , ...,  5654.55,  5654.75,  5724.05],\n",
       "       ...,\n",
       "       [15853.95, 15924.2 , 15923.4 , ..., 15824.45, 15746.45, 15709.4 ],\n",
       "       [15924.2 , 15923.4 , 15752.4 , ..., 15746.45, 15709.4 , 15778.45],\n",
       "       [15923.4 , 15752.4 , 15632.1 , ..., 15709.4 , 15778.45, 15763.05]])"
      ]
     },
     "execution_count": 12,
     "metadata": {},
     "output_type": "execute_result"
    }
   ],
   "source": [
    "target"
   ]
  },
  {
   "cell_type": "code",
   "execution_count": 13,
   "id": "beea8da6",
   "metadata": {},
   "outputs": [],
   "source": [
    "train_ds = ListDataset(\n",
    "    [\n",
    "        {\n",
    "            FieldName.TARGET: target,\n",
    "            FieldName.START: start,\n",
    "            FieldName.FEAT_DYNAMIC_REAL: [fdr]\n",
    "        }\n",
    "        for (target, start, fdr) in zip(\n",
    "            target[:, :-nifty_data_metadata['prediction_length']],\n",
    "            start,\n",
    "            feat_dynamic_real[:, :-nifty_data_metadata['prediction_length']]\n",
    "        )\n",
    "    ],\n",
    "    freq=nifty_data_metadata['freq']\n",
    ")\n",
    "test_ds = ListDataset(\n",
    "    [\n",
    "        {\n",
    "            FieldName.TARGET: target,\n",
    "            FieldName.START: start,\n",
    "            FieldName.FEAT_DYNAMIC_REAL: [fdr]\n",
    "        }\n",
    "        for (target, start, fdr) in zip(\n",
    "            target,\n",
    "            start,\n",
    "            feat_dynamic_real)\n",
    "    ],\n",
    "    freq=nifty_data_metadata['freq']\n",
    ")"
   ]
  },
  {
   "cell_type": "code",
   "execution_count": 14,
   "id": "8259492c",
   "metadata": {},
   "outputs": [],
   "source": [
    "# Update metadata\n",
    "nifty_data_metadata['train_num_of_series'] = len(train_ds)\n",
    "nifty_data_metadata['test_num_of_series'] = len(test_ds)"
   ]
  },
  {
   "cell_type": "markdown",
   "id": "495f52c6",
   "metadata": {},
   "source": [
    "Examining both `train_ds` and `test_ds`."
   ]
  },
  {
   "cell_type": "code",
   "execution_count": 15,
   "id": "08970c5f",
   "metadata": {},
   "outputs": [
    {
     "data": {
      "text/plain": [
       "{'num_series': 2612,\n",
       " 'num_steps': 10,\n",
       " 'context_length': 5,\n",
       " 'prediction_length': 5,\n",
       " 'freq': '1B',\n",
       " 'train_len': 2100,\n",
       " 'train_num_of_series': 2612,\n",
       " 'test_num_of_series': 2612}"
      ]
     },
     "execution_count": 15,
     "metadata": {},
     "output_type": "execute_result"
    }
   ],
   "source": [
    "nifty_data_metadata"
   ]
  },
  {
   "cell_type": "code",
   "execution_count": 16,
   "id": "da2c187c",
   "metadata": {},
   "outputs": [
    {
     "name": "stdout",
     "output_type": "stream",
     "text": [
      "dict_keys(['target', 'start', 'feat_dynamic_real', 'source'])\n",
      "dict_keys(['target', 'start', 'feat_dynamic_real', 'source'])\n"
     ]
    }
   ],
   "source": [
    "train_entry = next(iter(train_ds))\n",
    "print(train_entry.keys())\n",
    "\n",
    "test_entry = next(iter(test_ds))\n",
    "print(test_entry.keys())"
   ]
  },
  {
   "cell_type": "code",
   "execution_count": 17,
   "id": "90491afd",
   "metadata": {},
   "outputs": [
    {
     "data": {
      "image/png": "[encoded data removed]",
      "text/plain": [
       "<Figure size 1080x504 with 2 Axes>"
      ]
     },
     "metadata": {
      "needs_background": "light"
     },
     "output_type": "display_data"
    }
   ],
   "source": [
    "test_series = to_pandas(test_entry)\n",
    "train_series = to_pandas(train_entry)\n",
    "\n",
    "fig, ax = plt.subplots(2, 1, sharex=True, sharey=True, figsize=(15, 7))\n",
    "\n",
    "train_series.plot(ax=ax[0])\n",
    "ax[0].grid(which=\"both\")\n",
    "ax[0].legend([\"train series\"], loc=\"upper left\")\n",
    "\n",
    "test_series.plot(ax=ax[1])\n",
    "ax[1].axvline(test_series.index[-nifty_data_metadata['prediction_length']], color='r') # end of train dataset\n",
    "ax[1].grid(which=\"both\")\n",
    "ax[1].legend([\"train series\", \"start of forecast\"], loc=\"upper left\")\n",
    "\n",
    "plt.show()"
   ]
  },
  {
   "cell_type": "markdown",
   "id": "faf998bb",
   "metadata": {},
   "source": [
    "Similarly, the 45th one should be starting from 45th time-step (i.e. early-Mar considering only Business Days) of the above example"
   ]
  },
  {
   "cell_type": "code",
   "execution_count": 18,
   "id": "c122d7e5",
   "metadata": {},
   "outputs": [
    {
     "name": "stdout",
     "output_type": "stream",
     "text": [
      "dict_keys(['target', 'start', 'feat_dynamic_real', 'source'])\n",
      "dict_keys(['target', 'start', 'feat_dynamic_real', 'source'])\n"
     ]
    }
   ],
   "source": [
    "td = iter(train_ds)\n",
    "for _ in range(45):\n",
    "    next(td)\n",
    "train_entry = next(td)\n",
    "print(train_entry.keys())\n",
    "\n",
    "ts = iter(test_ds)\n",
    "for _ in range(45):\n",
    "    next(ts)\n",
    "test_entry = next(ts)\n",
    "print(test_entry.keys())"
   ]
  },
  {
   "cell_type": "code",
   "execution_count": 19,
   "id": "1f16e8aa",
   "metadata": {},
   "outputs": [
    {
     "data": {
      "image/png": "[encoded data removed]",
      "text/plain": [
       "<Figure size 1080x504 with 2 Axes>"
      ]
     },
     "metadata": {
      "needs_background": "light"
     },
     "output_type": "display_data"
    }
   ],
   "source": [
    "test_series = to_pandas(test_entry)\n",
    "train_series = to_pandas(train_entry)\n",
    "\n",
    "fig, ax = plt.subplots(2, 1, sharex=True, sharey=True, figsize=(15, 7))\n",
    "\n",
    "train_series.plot(ax=ax[0])\n",
    "ax[0].grid(which=\"both\")\n",
    "ax[0].legend([\"train series\"], loc=\"upper left\")\n",
    "\n",
    "test_series.plot(ax=ax[1])\n",
    "ax[1].axvline(test_series.index[-nifty_data_metadata['prediction_length']], color='r') # end of train dataset\n",
    "ax[1].grid(which=\"both\")\n",
    "ax[1].legend([\"train series\", \"start of forecast\"], loc=\"upper left\")\n",
    "\n",
    "plt.show()"
   ]
  },
  {
   "cell_type": "markdown",
   "id": "bb00fd26",
   "metadata": {},
   "source": [
    "This creates our train & test Dataset!"
   ]
  },
  {
   "cell_type": "code",
   "execution_count": 192,
   "id": "3959ac74",
   "metadata": {},
   "outputs": [
    {
     "name": "stdout",
     "output_type": "stream",
     "text": [
      "Wall time: 1min 52s\n"
     ]
    }
   ],
   "source": [
    "%%time\n",
    "from gluonts.dataset.multivariate_grouper import MultivariateGrouper\n",
    "grouper_train = MultivariateGrouper(max_target_dim=nifty_data_metadata['train_num_of_series'])\n",
    "grouper_test = MultivariateGrouper(max_target_dim=nifty_data_metadata['train_num_of_series'])\n",
    "grouped_train_ds = grouper_train(train_ds)\n",
    "grouped_test_ds = grouper_train(test_ds)"
   ]
  },
  {
   "cell_type": "markdown",
   "id": "bc201826",
   "metadata": {},
   "source": [
    "# Train/Test Split & Data Grouper (For Actual Forecasting)"
   ]
  },
  {
   "cell_type": "code",
   "execution_count": 20,
   "id": "693263a0",
   "metadata": {},
   "outputs": [
    {
     "data": {
      "text/html": [
       "<div>\n",
       "<style scoped>\n",
       "    .dataframe tbody tr th:only-of-type {\n",
       "        vertical-align: middle;\n",
       "    }\n",
       "\n",
       "    .dataframe tbody tr th {\n",
       "        vertical-align: top;\n",
       "    }\n",
       "\n",
       "    .dataframe thead th {\n",
       "        text-align: right;\n",
       "    }\n",
       "</style>\n",
       "<table border=\"1\" class=\"dataframe\">\n",
       "  <thead>\n",
       "    <tr style=\"text-align: right;\">\n",
       "      <th></th>\n",
       "      <th>Date</th>\n",
       "      <th>Open</th>\n",
       "      <th>High</th>\n",
       "      <th>Low</th>\n",
       "      <th>Close</th>\n",
       "      <th>Log_Volume</th>\n",
       "    </tr>\n",
       "  </thead>\n",
       "  <tbody>\n",
       "    <tr>\n",
       "      <th>0</th>\n",
       "      <td>2011-01-03</td>\n",
       "      <td>6177.45</td>\n",
       "      <td>6178.55</td>\n",
       "      <td>6147.20</td>\n",
       "      <td>6157.60</td>\n",
       "      <td>18.380157</td>\n",
       "    </tr>\n",
       "    <tr>\n",
       "      <th>1</th>\n",
       "      <td>2011-01-04</td>\n",
       "      <td>6172.75</td>\n",
       "      <td>6181.05</td>\n",
       "      <td>6124.40</td>\n",
       "      <td>6146.35</td>\n",
       "      <td>19.018021</td>\n",
       "    </tr>\n",
       "    <tr>\n",
       "      <th>2</th>\n",
       "      <td>2011-01-05</td>\n",
       "      <td>6141.35</td>\n",
       "      <td>6141.35</td>\n",
       "      <td>6062.35</td>\n",
       "      <td>6079.80</td>\n",
       "      <td>18.754393</td>\n",
       "    </tr>\n",
       "    <tr>\n",
       "      <th>3</th>\n",
       "      <td>2011-01-06</td>\n",
       "      <td>6107.00</td>\n",
       "      <td>6116.15</td>\n",
       "      <td>6022.30</td>\n",
       "      <td>6048.25</td>\n",
       "      <td>18.841619</td>\n",
       "    </tr>\n",
       "    <tr>\n",
       "      <th>4</th>\n",
       "      <td>2011-01-07</td>\n",
       "      <td>6030.90</td>\n",
       "      <td>6051.20</td>\n",
       "      <td>5883.60</td>\n",
       "      <td>5904.60</td>\n",
       "      <td>18.961895</td>\n",
       "    </tr>\n",
       "  </tbody>\n",
       "</table>\n",
       "</div>"
      ],
      "text/plain": [
       "        Date     Open     High      Low    Close  Log_Volume\n",
       "0 2011-01-03  6177.45  6178.55  6147.20  6157.60   18.380157\n",
       "1 2011-01-04  6172.75  6181.05  6124.40  6146.35   19.018021\n",
       "2 2011-01-05  6141.35  6141.35  6062.35  6079.80   18.754393\n",
       "3 2011-01-06  6107.00  6116.15  6022.30  6048.25   18.841619\n",
       "4 2011-01-07  6030.90  6051.20  5883.60  5904.60   18.961895"
      ]
     },
     "execution_count": 20,
     "metadata": {},
     "output_type": "execute_result"
    }
   ],
   "source": [
    "data.head()"
   ]
  },
  {
   "cell_type": "code",
   "execution_count": 21,
   "id": "90821726",
   "metadata": {},
   "outputs": [],
   "source": [
    "target = np.array(data['Close'])\n",
    "# start = [s.strftime(\"%Y-%m-%d %H:%M:%S\") for s in start.flatten()]\n",
    "start = data['Date']\n",
    "open_price = np.array(data['Open'])\n",
    "high_price = np.array(data['High'])\n",
    "low_price = np.array(data['Low'])\n",
    "log_volume = np.array(data['Log_Volume'])\n",
    "\n",
    "\n",
    "train_ds = ListDataset(\n",
    "    [\n",
    "        {\n",
    "            FieldName.TARGET: target[:nifty_data_metadata['train_len']],\n",
    "            FieldName.START: start[0],\n",
    "            FieldName.FEAT_DYNAMIC_REAL: [\n",
    "                open_price[:nifty_data_metadata['train_len']],\n",
    "                high_price[:nifty_data_metadata['train_len']],\n",
    "                low_price[:nifty_data_metadata['train_len']],\n",
    "                log_volume[:nifty_data_metadata['train_len']]\n",
    "            ]\n",
    "        }\n",
    "    ],\n",
    "    freq=nifty_data_metadata['freq']\n",
    ")\n",
    "test_ds = ListDataset(\n",
    "    [\n",
    "        {\n",
    "            FieldName.TARGET: target[nifty_data_metadata['train_len']:],\n",
    "            FieldName.START: start[nifty_data_metadata['train_len']],\n",
    "            FieldName.FEAT_DYNAMIC_REAL: [\n",
    "                open_price[nifty_data_metadata['train_len']:],\n",
    "                high_price[nifty_data_metadata['train_len']:],\n",
    "                low_price[nifty_data_metadata['train_len']:],\n",
    "                log_volume[nifty_data_metadata['train_len']:]\n",
    "            ]\n",
    "        }\n",
    "    ],\n",
    "    freq=nifty_data_metadata['freq']\n",
    ")"
   ]
  },
  {
   "cell_type": "code",
   "execution_count": 22,
   "id": "05b67ad5",
   "metadata": {},
   "outputs": [
    {
     "name": "stdout",
     "output_type": "stream",
     "text": [
      "Train Len: 1 ; Test Len: 1\n"
     ]
    }
   ],
   "source": [
    "print(\"Train Len:\", len(train_ds), \"; Test Len:\", len(test_ds))"
   ]
  },
  {
   "cell_type": "code",
   "execution_count": 23,
   "id": "bfb52efe",
   "metadata": {},
   "outputs": [
    {
     "name": "stdout",
     "output_type": "stream",
     "text": [
      "{'target': array([ 6157.6 ,  6146.35,  6079.8 , ..., 11724.1 , 11699.65, 11796.45],\n",
      "      dtype=float32), 'start': Timestamp('2011-01-03 00:00:00', freq='B'), 'feat_dynamic_real': array([[ 6177.45    ,  6172.75    ,  6141.35    , ..., 11827.6     ,\n",
      "        11725.8     , 11681.      ],\n",
      "       [ 6178.55    ,  6181.05    ,  6141.35    , ..., 11827.95    ,\n",
      "        11754.      , 11814.4     ],\n",
      "       [ 6147.2     ,  6124.4     ,  6062.35    , ..., 11705.1     ,\n",
      "        11670.2     , 11651.      ],\n",
      "       [   18.380157,    19.01802 ,    18.754393, ...,    19.964897,\n",
      "           19.441767,    19.52088 ]], dtype=float32), 'source': SourceContext(source='list_data', row=0)}\n"
     ]
    }
   ],
   "source": [
    "it = iter(train_ds)\n",
    "print(next(it))"
   ]
  },
  {
   "cell_type": "code",
   "execution_count": 24,
   "id": "cb1d96b4",
   "metadata": {
    "scrolled": true
   },
   "outputs": [
    {
     "name": "stdout",
     "output_type": "stream",
     "text": [
      "521\n",
      "{'target': array([11847.55, 11841.55, 11788.85, 11865.6 , 11910.3 , 11916.75,\n",
      "       11946.75, 11811.15, 11558.6 , 11555.9 , 11498.9 , 11582.9 ,\n",
      "       11552.5 , 11588.35, 11662.6 , 11687.5 , 11596.9 , 11419.25,\n",
      "       11346.2 , 11331.05, 11271.3 , 11252.15, 11284.3 , 11189.2 ,\n",
      "       11085.4 , 11118.  , 10980.  , 10997.35, 10862.6 , 10948.25,\n",
      "       10855.5 , 11032.45, 11109.65, 10925.85, 11029.4 , 11047.8 ,\n",
      "       11053.9 , 11017.  , 10918.7 , 10741.35, 10829.35, 11057.85,\n",
      "       11105.35, 11046.1 , 10948.3 , 11023.25, 10797.9 , 10844.65,\n",
      "       10847.9 , 10946.2 , 11003.05, 11035.7 , 10982.8 , 11075.9 ,\n",
      "       11003.5 , 10817.6 , 10840.65, 10704.8 , 11274.2 , 11600.2 ,\n",
      "       11588.2 , 11440.2 , 11571.2 , 11512.4 , 11474.45, 11359.9 ,\n",
      "       11314.  , 11174.75, 11126.4 , 11313.3 , 11234.55, 11305.05,\n",
      "       11341.15, 11428.3 , 11464.  , 11586.35, 11661.85, 11588.35,\n",
      "       11604.1 , 11582.6 , 11583.9 , 11627.15, 11786.85, 11844.1 ,\n",
      "       11877.45, 11890.6 , 11941.3 , 11917.2 , 11966.05, 12012.05,\n",
      "       11908.15, 11913.45, 11840.45, 11872.1 , 11895.45, 11884.5 ,\n",
      "       11940.1 , 11999.1 , 11968.4 , 11914.4 , 12073.75, 12037.7 ,\n",
      "       12100.7 , 12151.15, 12056.05, 12048.2 , 11994.2 , 12043.2 ,\n",
      "       12018.4 , 11921.5 , 11937.5 , 11856.8 , 11910.15, 11971.8 ,\n",
      "       12086.7 , 12053.95, 12165.  , 12221.65, 12259.7 , 12271.8 ,\n",
      "       12262.75, 12214.55, 12126.55, 12245.8 , 12255.85, 12168.45,\n",
      "       12182.5 , 12282.2 , 12226.65, 11993.05, 12052.95, 12025.35,\n",
      "       12215.9 , 12256.8 , 12329.55, 12362.3 , 12343.3 , 12355.5 ,\n",
      "       12352.35, 12224.55, 12169.85, 12106.9 , 12180.35, 12248.25,\n",
      "       12119.  , 12055.8 , 12129.5 , 12035.8 , 11962.1 , 11661.85,\n",
      "       11707.9 , 11979.65, 12089.15, 12137.95, 12098.35, 12031.5 ,\n",
      "       12107.9 , 12201.2 , 12174.65, 12113.45, 12045.8 , 11992.5 ,\n",
      "       12125.9 , 12080.85, 11829.4 , 11797.9 , 11678.5 , 11633.3 ,\n",
      "       11201.75, 11132.75, 11303.3 , 11251.  , 11269.  , 10989.45,\n",
      "       10451.45, 10458.4 ,  9590.15,  9955.2 ,  9197.4 ,  8967.05,\n",
      "        8468.8 ,  8263.45,  8745.45,  7610.25,  7801.05,  8317.85,\n",
      "        8641.45,  8660.25,  8281.1 ,  8597.75,  8253.8 ,  8083.8 ,\n",
      "        8792.2 ,  8748.75,  9111.9 ,  8993.85,  8925.3 ,  8992.8 ,\n",
      "        9266.75,  9261.85,  8981.45,  9187.3 ,  9313.9 ,  9154.4 ,\n",
      "        9282.3 ,  9380.9 ,  9553.35,  9859.9 ,  9293.5 ,  9205.6 ,\n",
      "        9270.9 ,  9199.05,  9251.5 ,  9239.2 ,  9196.55,  9383.55,\n",
      "        9142.75,  9136.85,  8823.25,  8879.1 ,  9066.55,  9106.25,\n",
      "        9039.25,  9029.05,  9314.95,  9490.1 ,  9580.3 ,  9826.15,\n",
      "        9979.1 , 10061.55, 10029.1 , 10142.15, 10167.45, 10046.65,\n",
      "       10116.15,  9902.  ,  9972.9 ,  9813.7 ,  9914.  ,  9881.15,\n",
      "       10091.65, 10244.4 , 10311.2 , 10471.  , 10305.3 , 10288.9 ,\n",
      "       10383.  , 10312.4 , 10302.1 , 10430.05, 10551.7 , 10607.35,\n",
      "       10763.65, 10799.65, 10705.75, 10813.45, 10768.05, 10802.7 ,\n",
      "       10607.35, 10618.2 , 10739.95, 10901.7 , 11022.2 , 11162.25,\n",
      "       11132.6 , 11215.45, 11194.15, 11131.8 , 11300.55, 11202.85,\n",
      "       11102.15, 11073.45, 10891.6 , 11095.25, 11101.65, 11200.15,\n",
      "       11214.05, 11270.15, 11322.5 , 11308.4 , 11300.45, 11178.4 ,\n",
      "       11247.1 , 11385.35, 11408.4 , 11312.2 , 11371.6 , 11466.45,\n",
      "       11472.25, 11549.6 , 11559.25, 11647.6 , 11387.5 , 11470.25,\n",
      "       11535.  , 11527.45, 11333.85, 11355.05, 11317.35, 11278.  ,\n",
      "       11449.25, 11464.45, 11440.05, 11521.8 , 11604.55, 11516.1 ,\n",
      "       11504.95, 11250.55, 11153.65, 11131.85, 10805.55, 11050.25,\n",
      "       11227.55, 11222.4 , 11247.55, 11416.95, 11503.35, 11662.4 ,\n",
      "       11738.85, 11834.6 , 11914.2 , 11930.95, 11934.5 , 11971.05,\n",
      "       11680.35, 11762.45, 11873.05, 11896.8 , 11937.65, 11896.45,\n",
      "       11930.35, 11767.75, 11889.4 , 11729.6 , 11670.8 , 11642.4 ,\n",
      "       11669.15, 11813.5 , 11908.5 , 12120.3 , 12263.55, 12461.05,\n",
      "       12631.1 , 12749.15, 12690.8 , 12719.95, 12780.25, 12874.2 ,\n",
      "       12938.25, 12771.7 , 12859.05, 12926.45, 13055.15, 12858.4 ,\n",
      "       12987.  , 12968.95, 13109.05, 13113.75, 13133.9 , 13258.55,\n",
      "       13355.75, 13392.95, 13529.1 , 13478.3 , 13513.85, 13558.15,\n",
      "       13567.85, 13682.7 , 13740.7 , 13760.55, 13328.4 , 13466.3 ,\n",
      "       13601.1 , 13749.25, 13873.2 , 13932.6 , 13981.95, 13981.75,\n",
      "       14018.5 , 14132.9 , 14199.5 , 14146.25, 14137.35, 14347.25,\n",
      "       14484.75, 14563.45, 14564.85, 14595.6 , 14433.7 , 14281.3 ,\n",
      "       14521.15, 14644.7 , 14590.35, 14371.9 , 14238.9 , 13967.5 ,\n",
      "       13817.55, 13634.6 , 14281.2 , 14647.85, 14789.95, 14895.65,\n",
      "       14924.25, 15115.8 , 15109.3 , 15106.5 , 15173.3 , 15163.3 ,\n",
      "       15314.7 , 15313.45, 15208.9 , 15118.95, 14981.75, 14675.7 ,\n",
      "       14707.8 , 14982.  , 15097.35, 14529.15, 14761.55, 14919.1 ,\n",
      "       15245.6 , 15080.75, 14938.1 , 14956.2 , 15098.4 , 15174.8 ,\n",
      "       15030.95, 14929.5 , 14910.45, 14721.3 , 14557.85, 14744.  ,\n",
      "       14736.4 , 14814.75, 14549.4 , 14324.9 , 14507.3 , 14845.1 ,\n",
      "       14690.7 , 14867.35, 14637.8 , 14683.5 , 14819.05, 14873.8 ,\n",
      "       14834.85, 14310.8 , 14504.8 , 14581.45, 14617.85, 14359.45,\n",
      "       14296.4 , 14406.15, 14341.35, 14485.  , 14653.05, 14864.55,\n",
      "       14894.9 , 14631.1 , 14634.15, 14496.5 , 14617.85, 14724.8 ,\n",
      "       14823.15, 14942.35, 14850.75, 14696.5 , 14677.8 , 14923.15,\n",
      "       15108.1 , 15030.15, 14906.05, 15175.3 , 15197.7 , 15208.45,\n",
      "       15301.45, 15337.85, 15435.65, 15582.8 , 15574.85, 15576.2 ,\n",
      "       15690.35, 15670.25, 15751.65, 15740.1 , 15635.35, 15737.75,\n",
      "       15799.35, 15811.85, 15869.25, 15767.55, 15691.4 , 15683.35,\n",
      "       15746.5 , 15772.75, 15686.95, 15790.45, 15860.35, 15814.7 ,\n",
      "       15748.45, 15721.5 , 15680.  , 15722.2 , 15834.35, 15818.25,\n",
      "       15879.65, 15727.9 , 15689.8 , 15692.6 , 15812.35, 15853.95,\n",
      "       15924.2 , 15923.4 , 15752.4 , 15632.1 , 15824.05, 15856.05,\n",
      "       15824.45, 15746.45, 15709.4 , 15778.45, 15763.05], dtype=float32), 'start': Timestamp('2019-06-26 00:00:00', freq='B'), 'feat_dynamic_real': array([[11768.15    , 11860.85    , 11861.15    , ..., 15761.55    ,\n",
      "        15762.7     , 15800.6     ],\n",
      "       [11871.85    , 11911.15    , 11871.7     , ..., 15767.5     ,\n",
      "        15817.35    , 15862.8     ],\n",
      "       [11757.55    , 11821.05    , 11775.5     , ..., 15513.45    ,\n",
      "        15737.8     , 15744.85    ],\n",
      "       [   19.608173,    19.989649,    19.532171, ...,    19.579453,\n",
      "           19.81093 ,    19.807028]], dtype=float32), 'source': SourceContext(source='list_data', row=0)}\n"
     ]
    }
   ],
   "source": [
    "it = iter(test_ds)\n",
    "ts = next(it)\n",
    "print(len(ts['target']))\n",
    "print(ts)"
   ]
  },
  {
   "cell_type": "code",
   "execution_count": 25,
   "id": "f2231531",
   "metadata": {},
   "outputs": [
    {
     "name": "stdout",
     "output_type": "stream",
     "text": [
      "Wall time: 106 ms\n"
     ]
    }
   ],
   "source": [
    "%%time\n",
    "from gluonts.dataset.multivariate_grouper import MultivariateGrouper\n",
    "grouper_train = MultivariateGrouper(max_target_dim=1)\n",
    "grouper_test = MultivariateGrouper(max_target_dim=1)\n",
    "grouped_train_ds = grouper_train(train_ds)\n",
    "grouped_test_ds = grouper_test(test_ds)"
   ]
  },
  {
   "cell_type": "code",
   "execution_count": 26,
   "id": "d0607f45",
   "metadata": {},
   "outputs": [
    {
     "name": "stdout",
     "output_type": "stream",
     "text": [
      "2100\n"
     ]
    },
    {
     "data": {
      "text/plain": [
       "{'target': array([[ 6157.6 ,  6146.35,  6079.8 , ..., 11724.1 , 11699.65, 11796.45]],\n",
       "       dtype=float32),\n",
       " 'start': Timestamp('2011-01-03 00:00:00', freq='B'),\n",
       " 'feat_static_cat': array([0]),\n",
       " 'source': SourceContext(source='list_data', row=0)}"
      ]
     },
     "execution_count": 26,
     "metadata": {},
     "output_type": "execute_result"
    }
   ],
   "source": [
    "it = iter(grouped_train_ds)\n",
    "g_train_entry = next(it)\n",
    "print(len(g_train_entry['target'][0]))\n",
    "g_train_entry"
   ]
  },
  {
   "cell_type": "code",
   "execution_count": 27,
   "id": "dd74fc9f",
   "metadata": {
    "scrolled": true
   },
   "outputs": [
    {
     "name": "stdout",
     "output_type": "stream",
     "text": [
      "521\n"
     ]
    },
    {
     "data": {
      "text/plain": [
       "{'target': array([[11847.55, 11841.55, 11788.85, 11865.6 , 11910.3 , 11916.75,\n",
       "         11946.75, 11811.15, 11558.6 , 11555.9 , 11498.9 , 11582.9 ,\n",
       "         11552.5 , 11588.35, 11662.6 , 11687.5 , 11596.9 , 11419.25,\n",
       "         11346.2 , 11331.05, 11271.3 , 11252.15, 11284.3 , 11189.2 ,\n",
       "         11085.4 , 11118.  , 10980.  , 10997.35, 10862.6 , 10948.25,\n",
       "         10855.5 , 11032.45, 11109.65, 10925.85, 11029.4 , 11047.8 ,\n",
       "         11053.9 , 11017.  , 10918.7 , 10741.35, 10829.35, 11057.85,\n",
       "         11105.35, 11046.1 , 10948.3 , 11023.25, 10797.9 , 10844.65,\n",
       "         10847.9 , 10946.2 , 11003.05, 11035.7 , 10982.8 , 11075.9 ,\n",
       "         11003.5 , 10817.6 , 10840.65, 10704.8 , 11274.2 , 11600.2 ,\n",
       "         11588.2 , 11440.2 , 11571.2 , 11512.4 , 11474.45, 11359.9 ,\n",
       "         11314.  , 11174.75, 11126.4 , 11313.3 , 11234.55, 11305.05,\n",
       "         11341.15, 11428.3 , 11464.  , 11586.35, 11661.85, 11588.35,\n",
       "         11604.1 , 11582.6 , 11583.9 , 11627.15, 11786.85, 11844.1 ,\n",
       "         11877.45, 11890.6 , 11941.3 , 11917.2 , 11966.05, 12012.05,\n",
       "         11908.15, 11913.45, 11840.45, 11872.1 , 11895.45, 11884.5 ,\n",
       "         11940.1 , 11999.1 , 11968.4 , 11914.4 , 12073.75, 12037.7 ,\n",
       "         12100.7 , 12151.15, 12056.05, 12048.2 , 11994.2 , 12043.2 ,\n",
       "         12018.4 , 11921.5 , 11937.5 , 11856.8 , 11910.15, 11971.8 ,\n",
       "         12086.7 , 12053.95, 12165.  , 12221.65, 12259.7 , 12271.8 ,\n",
       "         12262.75, 12214.55, 12126.55, 12245.8 , 12255.85, 12168.45,\n",
       "         12182.5 , 12282.2 , 12226.65, 11993.05, 12052.95, 12025.35,\n",
       "         12215.9 , 12256.8 , 12329.55, 12362.3 , 12343.3 , 12355.5 ,\n",
       "         12352.35, 12224.55, 12169.85, 12106.9 , 12180.35, 12248.25,\n",
       "         12119.  , 12055.8 , 12129.5 , 12035.8 , 11962.1 , 11661.85,\n",
       "         11707.9 , 11979.65, 12089.15, 12137.95, 12098.35, 12031.5 ,\n",
       "         12107.9 , 12201.2 , 12174.65, 12113.45, 12045.8 , 11992.5 ,\n",
       "         12125.9 , 12080.85, 11829.4 , 11797.9 , 11678.5 , 11633.3 ,\n",
       "         11201.75, 11132.75, 11303.3 , 11251.  , 11269.  , 10989.45,\n",
       "         10451.45, 10458.4 ,  9590.15,  9955.2 ,  9197.4 ,  8967.05,\n",
       "          8468.8 ,  8263.45,  8745.45,  7610.25,  7801.05,  8317.85,\n",
       "          8641.45,  8660.25,  8281.1 ,  8597.75,  8253.8 ,  8083.8 ,\n",
       "          8792.2 ,  8748.75,  9111.9 ,  8993.85,  8925.3 ,  8992.8 ,\n",
       "          9266.75,  9261.85,  8981.45,  9187.3 ,  9313.9 ,  9154.4 ,\n",
       "          9282.3 ,  9380.9 ,  9553.35,  9859.9 ,  9293.5 ,  9205.6 ,\n",
       "          9270.9 ,  9199.05,  9251.5 ,  9239.2 ,  9196.55,  9383.55,\n",
       "          9142.75,  9136.85,  8823.25,  8879.1 ,  9066.55,  9106.25,\n",
       "          9039.25,  9029.05,  9314.95,  9490.1 ,  9580.3 ,  9826.15,\n",
       "          9979.1 , 10061.55, 10029.1 , 10142.15, 10167.45, 10046.65,\n",
       "         10116.15,  9902.  ,  9972.9 ,  9813.7 ,  9914.  ,  9881.15,\n",
       "         10091.65, 10244.4 , 10311.2 , 10471.  , 10305.3 , 10288.9 ,\n",
       "         10383.  , 10312.4 , 10302.1 , 10430.05, 10551.7 , 10607.35,\n",
       "         10763.65, 10799.65, 10705.75, 10813.45, 10768.05, 10802.7 ,\n",
       "         10607.35, 10618.2 , 10739.95, 10901.7 , 11022.2 , 11162.25,\n",
       "         11132.6 , 11215.45, 11194.15, 11131.8 , 11300.55, 11202.85,\n",
       "         11102.15, 11073.45, 10891.6 , 11095.25, 11101.65, 11200.15,\n",
       "         11214.05, 11270.15, 11322.5 , 11308.4 , 11300.45, 11178.4 ,\n",
       "         11247.1 , 11385.35, 11408.4 , 11312.2 , 11371.6 , 11466.45,\n",
       "         11472.25, 11549.6 , 11559.25, 11647.6 , 11387.5 , 11470.25,\n",
       "         11535.  , 11527.45, 11333.85, 11355.05, 11317.35, 11278.  ,\n",
       "         11449.25, 11464.45, 11440.05, 11521.8 , 11604.55, 11516.1 ,\n",
       "         11504.95, 11250.55, 11153.65, 11131.85, 10805.55, 11050.25,\n",
       "         11227.55, 11222.4 , 11247.55, 11416.95, 11503.35, 11662.4 ,\n",
       "         11738.85, 11834.6 , 11914.2 , 11930.95, 11934.5 , 11971.05,\n",
       "         11680.35, 11762.45, 11873.05, 11896.8 , 11937.65, 11896.45,\n",
       "         11930.35, 11767.75, 11889.4 , 11729.6 , 11670.8 , 11642.4 ,\n",
       "         11669.15, 11813.5 , 11908.5 , 12120.3 , 12263.55, 12461.05,\n",
       "         12631.1 , 12749.15, 12690.8 , 12719.95, 12780.25, 12874.2 ,\n",
       "         12938.25, 12771.7 , 12859.05, 12926.45, 13055.15, 12858.4 ,\n",
       "         12987.  , 12968.95, 13109.05, 13113.75, 13133.9 , 13258.55,\n",
       "         13355.75, 13392.95, 13529.1 , 13478.3 , 13513.85, 13558.15,\n",
       "         13567.85, 13682.7 , 13740.7 , 13760.55, 13328.4 , 13466.3 ,\n",
       "         13601.1 , 13749.25, 13873.2 , 13932.6 , 13981.95, 13981.75,\n",
       "         14018.5 , 14132.9 , 14199.5 , 14146.25, 14137.35, 14347.25,\n",
       "         14484.75, 14563.45, 14564.85, 14595.6 , 14433.7 , 14281.3 ,\n",
       "         14521.15, 14644.7 , 14590.35, 14371.9 , 14238.9 , 13967.5 ,\n",
       "         13817.55, 13634.6 , 14281.2 , 14647.85, 14789.95, 14895.65,\n",
       "         14924.25, 15115.8 , 15109.3 , 15106.5 , 15173.3 , 15163.3 ,\n",
       "         15314.7 , 15313.45, 15208.9 , 15118.95, 14981.75, 14675.7 ,\n",
       "         14707.8 , 14982.  , 15097.35, 14529.15, 14761.55, 14919.1 ,\n",
       "         15245.6 , 15080.75, 14938.1 , 14956.2 , 15098.4 , 15174.8 ,\n",
       "         15030.95, 14929.5 , 14910.45, 14721.3 , 14557.85, 14744.  ,\n",
       "         14736.4 , 14814.75, 14549.4 , 14324.9 , 14507.3 , 14845.1 ,\n",
       "         14690.7 , 14867.35, 14637.8 , 14683.5 , 14819.05, 14873.8 ,\n",
       "         14834.85, 14310.8 , 14504.8 , 14581.45, 14617.85, 14359.45,\n",
       "         14296.4 , 14406.15, 14341.35, 14485.  , 14653.05, 14864.55,\n",
       "         14894.9 , 14631.1 , 14634.15, 14496.5 , 14617.85, 14724.8 ,\n",
       "         14823.15, 14942.35, 14850.75, 14696.5 , 14677.8 , 14923.15,\n",
       "         15108.1 , 15030.15, 14906.05, 15175.3 , 15197.7 , 15208.45,\n",
       "         15301.45, 15337.85, 15435.65, 15582.8 , 15574.85, 15576.2 ,\n",
       "         15690.35, 15670.25, 15751.65, 15740.1 , 15635.35, 15737.75,\n",
       "         15799.35, 15811.85, 15869.25, 15767.55, 15691.4 , 15683.35,\n",
       "         15746.5 , 15772.75, 15686.95, 15790.45, 15860.35, 15814.7 ,\n",
       "         15748.45, 15721.5 , 15680.  , 15722.2 , 15834.35, 15818.25,\n",
       "         15879.65, 15727.9 , 15689.8 , 15692.6 , 15812.35, 15853.95,\n",
       "         15924.2 , 15923.4 , 15752.4 , 15632.1 , 15824.05, 15856.05,\n",
       "         15824.45, 15746.45, 15709.4 , 15778.45, 15763.05]], dtype=float32),\n",
       " 'start': Timestamp('2019-06-26 00:00:00', freq='B'),\n",
       " 'feat_static_cat': array([0]),\n",
       " 'source': SourceContext(source='list_data', row=0)}"
      ]
     },
     "execution_count": 27,
     "metadata": {},
     "output_type": "execute_result"
    }
   ],
   "source": [
    "it = iter(grouped_test_ds)\n",
    "g_test_entry = next(it)\n",
    "print(len(g_test_entry['target'][0]))\n",
    "g_test_entry"
   ]
  },
  {
   "cell_type": "markdown",
   "id": "3a61c4ef",
   "metadata": {},
   "source": [
    "The multivariate grouper is dropping the `feat_dynamic_real` field. But this grouping is required for advanced deep learning models."
   ]
  },
  {
   "cell_type": "markdown",
   "id": "242db646",
   "metadata": {},
   "source": [
    "# Basic Requirements"
   ]
  },
  {
   "cell_type": "code",
   "execution_count": 28,
   "id": "200e8ca3",
   "metadata": {},
   "outputs": [],
   "source": [
    "ctx = mx.gpu() if mx.context.num_gpus() else mx.cpu()"
   ]
  },
  {
   "cell_type": "code",
   "execution_count": 29,
   "id": "de162ec8",
   "metadata": {},
   "outputs": [],
   "source": [
    "from pathlib import Path\n",
    "from gluonts.evaluation.backtest import backtest_metrics\n",
    "from gluonts.model.predictor import Predictor"
   ]
  },
  {
   "cell_type": "code",
   "execution_count": 30,
   "id": "a751bc7f",
   "metadata": {},
   "outputs": [
    {
     "data": {
      "text/plain": [
       "{'num_series': 1,\n",
       " 'num_steps': 10,\n",
       " 'context_length': 5,\n",
       " 'prediction_length': 5,\n",
       " 'freq': '1B',\n",
       " 'train_len': 2100,\n",
       " 'train_num_of_series': 1,\n",
       " 'test_num_of_series': 1,\n",
       " 'test_len': 521}"
      ]
     },
     "execution_count": 30,
     "metadata": {},
     "output_type": "execute_result"
    }
   ],
   "source": [
    "nifty_data_metadata['num_series'] = 1\n",
    "nifty_data_metadata['test_len'] = len(next(iter(test_ds))['target'])\n",
    "nifty_data_metadata['train_num_of_series'] = 1\n",
    "nifty_data_metadata['test_num_of_series'] = 1\n",
    "nifty_data_metadata"
   ]
  },
  {
   "cell_type": "code",
   "execution_count": null,
   "id": "1ebad6f4",
   "metadata": {},
   "outputs": [],
   "source": []
  },
  {
   "cell_type": "markdown",
   "id": "d8d3f97a",
   "metadata": {},
   "source": [
    "# Custom Evaluator to add POCID & Thiel's U"
   ]
  },
  {
   "cell_type": "code",
   "execution_count": 31,
   "id": "4f13013b",
   "metadata": {},
   "outputs": [],
   "source": [
    "import json\n",
    "from typing import Dict, Tuple, Union\n",
    "import numpy as np\n",
    "import pandas as pd\n",
    "from gluonts.evaluation import Evaluator\n",
    "from gluonts.model.forecast import Forecast\n",
    "\n",
    "from scipy.ndimage.interpolation import shift\n",
    "\n",
    "class MyEvaluator(Evaluator):\n",
    "    \n",
    "    @staticmethod\n",
    "    def pocid(target, forecast):\n",
    "        '''\n",
    "        calculates the accuracy of estimation of direction by the model.\n",
    "        If the predicted direction of change is the same as actual direction of change, Dt will be 1.\n",
    "        Otherwise, Dt will be 0.\n",
    "        \n",
    "        Two ways to write:\n",
    "        1. Determine POCID for only for first day of forecast\n",
    "        2. Determine POCID for (last-first), i.e. pred vs actual of the direction ts will go on last day\n",
    "        3. Aggregate for each day in prediction_length\n",
    "        Picking 3 for now\n",
    "        \n",
    "        Leaving out first forecast as the previous value is not known while evaluating.\n",
    "        '''\n",
    "        target_diff = target - shift(target, 1, cval=np.mean(target))\n",
    "        target_diff = np.delete(target_diff, 0)\n",
    "        forecast_diff = forecast - shift(forecast, 1, cval=np.mean(forecast))\n",
    "        forecast_diff = np.delete(forecast_diff, 0)\n",
    "        prod = np.multiply(target_diff, forecast_diff)\n",
    "        prod[prod>0] = 1\n",
    "        prod[prod<=0] = 0\n",
    "        pocid = (np.sum(prod)/len(prod))*100\n",
    "#         print(\"POCID:\", pocid)\n",
    "        return pocid\n",
    "    \n",
    "    @staticmethod\n",
    "    def theilU(target, forecast):\n",
    "        '''\n",
    "        𝑇𝑈= Σ(𝑦𝑡− 𝑦̂𝑡)2 / Σ(𝑦𝑡− 𝑦𝑡−1)2\n",
    "        \n",
    "        Leaving out first forecast as the previous value is not known while evaluating.\n",
    "        '''\n",
    "        target_lag = shift(target, 1, cval=np.mean(target))\n",
    "        nom = np.sum(np.square(target-forecast))\n",
    "        denom = np.sum(np.square(target-target_lag))\n",
    "        tu = nom/denom\n",
    "#         print(\"Theil's U:\", tu)\n",
    "        return tu\n",
    "\n",
    "    def get_metrics_per_ts(\n",
    "        self, time_series: Union[pd.Series, pd.DataFrame], forecast: Forecast\n",
    "    ) -> Dict[str, Union[float, str, None]]:\n",
    "        metrics = super().get_metrics_per_ts(time_series, forecast)\n",
    "\n",
    "        pred_target = np.array(self.extract_pred_target(time_series, forecast))\n",
    "        pred_target = np.ma.masked_invalid(pred_target)\n",
    "        median_fcst = forecast.quantile(0.5)\n",
    "\n",
    "        metrics[\"POCID\"] = self.pocid(\n",
    "            pred_target, median_fcst\n",
    "        )\n",
    "        metrics[\"Theil's U\"] = self.theilU(\n",
    "            pred_target, median_fcst\n",
    "        )\n",
    "        return metrics\n",
    "\n",
    "    def get_aggregate_metrics(\n",
    "        self, metric_per_ts: pd.DataFrame\n",
    "    ) -> Tuple[Dict[str, float], pd.DataFrame]:\n",
    "        totals, metric_per_ts = super().get_aggregate_metrics(metric_per_ts)\n",
    "\n",
    "        agg_funs = {\n",
    "            \"POCID\": \"mean\",\n",
    "            \"Theil's U\": \"mean\",\n",
    "        }\n",
    "        assert (\n",
    "            set(metric_per_ts.columns) >= agg_funs.keys()\n",
    "        ), \"Some of the requested item metrics are missing.\"\n",
    "        my_totals = {\n",
    "            key: metric_per_ts[key].agg(agg) for key, agg in agg_funs.items()\n",
    "        }\n",
    "\n",
    "        totals.update(my_totals)\n",
    "        return totals, metric_per_ts"
   ]
  },
  {
   "cell_type": "code",
   "execution_count": null,
   "id": "3c2c9c9e",
   "metadata": {},
   "outputs": [],
   "source": []
  },
  {
   "cell_type": "markdown",
   "id": "9f79f144",
   "metadata": {},
   "source": [
    "### Training an existing model (Estimator)"
   ]
  },
  {
   "cell_type": "code",
   "execution_count": 32,
   "id": "2d71f4e6",
   "metadata": {},
   "outputs": [],
   "source": [
    "from gluonts.model.simple_feedforward import SimpleFeedForwardEstimator\n",
    "from gluonts.mx import Trainer"
   ]
  },
  {
   "cell_type": "code",
   "execution_count": 33,
   "id": "3a2c4303",
   "metadata": {},
   "outputs": [],
   "source": [
    "estimator = SimpleFeedForwardEstimator(\n",
    "    num_hidden_dimensions=[10],\n",
    "    prediction_length=nifty_data_metadata['prediction_length'],\n",
    "    context_length=nifty_data_metadata['context_length'],\n",
    "    freq=nifty_data_metadata['freq'],\n",
    "    trainer=Trainer(\n",
    "        ctx=\"cpu\",\n",
    "        epochs=50,\n",
    "        learning_rate=1e-3,\n",
    "        num_batches_per_epoch=50\n",
    "    )\n",
    ")"
   ]
  },
  {
   "cell_type": "code",
   "execution_count": 34,
   "id": "4fb386a4",
   "metadata": {
    "scrolled": true
   },
   "outputs": [
    {
     "name": "stderr",
     "output_type": "stream",
     "text": [
      "100%|██████████| 50/50 [00:00<00:00, 125.29it/s, epoch=1/50, avg_epoch_loss=9.99]\n",
      "100%|██████████| 50/50 [00:00<00:00, 155.58it/s, epoch=2/50, avg_epoch_loss=8.88]\n",
      "100%|██████████| 50/50 [00:00<00:00, 175.43it/s, epoch=3/50, avg_epoch_loss=8.14]\n",
      "100%|██████████| 50/50 [00:00<00:00, 179.64it/s, epoch=4/50, avg_epoch_loss=7.22]\n",
      "100%|██████████| 50/50 [00:00<00:00, 173.26it/s, epoch=5/50, avg_epoch_loss=6.63]\n",
      "100%|██████████| 50/50 [00:00<00:00, 172.82it/s, epoch=6/50, avg_epoch_loss=6.54]\n",
      "100%|██████████| 50/50 [00:00<00:00, 165.72it/s, epoch=7/50, avg_epoch_loss=6.49]\n",
      "100%|██████████| 50/50 [00:00<00:00, 192.26it/s, epoch=8/50, avg_epoch_loss=6.47]\n",
      "100%|██████████| 50/50 [00:00<00:00, 182.89it/s, epoch=9/50, avg_epoch_loss=6.54]\n",
      "100%|██████████| 50/50 [00:00<00:00, 185.35it/s, epoch=10/50, avg_epoch_loss=6.53]\n",
      "100%|██████████| 50/50 [00:00<00:00, 184.78it/s, epoch=11/50, avg_epoch_loss=6.47]\n",
      "100%|██████████| 50/50 [00:00<00:00, 192.25it/s, epoch=12/50, avg_epoch_loss=6.51]\n",
      "100%|██████████| 50/50 [00:00<00:00, 171.76it/s, epoch=13/50, avg_epoch_loss=6.51]\n",
      "100%|██████████| 50/50 [00:00<00:00, 201.47it/s, epoch=14/50, avg_epoch_loss=6.47]\n",
      "100%|██████████| 50/50 [00:00<00:00, 181.50it/s, epoch=15/50, avg_epoch_loss=6.48]\n",
      "100%|██████████| 50/50 [00:00<00:00, 191.34it/s, epoch=16/50, avg_epoch_loss=6.49]\n",
      "100%|██████████| 50/50 [00:00<00:00, 141.55it/s, epoch=17/50, avg_epoch_loss=6.47]\n",
      "100%|██████████| 50/50 [00:00<00:00, 168.62it/s, epoch=18/50, avg_epoch_loss=6.54]\n",
      "100%|██████████| 50/50 [00:00<00:00, 163.36it/s, epoch=19/50, avg_epoch_loss=6.52]\n",
      "100%|██████████| 50/50 [00:00<00:00, 162.93it/s, epoch=20/50, avg_epoch_loss=6.47]\n",
      "100%|██████████| 50/50 [00:00<00:00, 171.28it/s, epoch=21/50, avg_epoch_loss=6.48]\n",
      "100%|██████████| 50/50 [00:00<00:00, 181.40it/s, epoch=22/50, avg_epoch_loss=6.47]\n",
      "100%|██████████| 50/50 [00:00<00:00, 147.57it/s, epoch=23/50, avg_epoch_loss=6.52]\n",
      "100%|██████████| 50/50 [00:00<00:00, 169.65it/s, epoch=24/50, avg_epoch_loss=6.44]\n",
      "100%|██████████| 50/50 [00:00<00:00, 158.34it/s, epoch=25/50, avg_epoch_loss=6.47]\n",
      "100%|██████████| 50/50 [00:00<00:00, 140.33it/s, epoch=26/50, avg_epoch_loss=6.5]\n",
      "100%|██████████| 50/50 [00:00<00:00, 144.75it/s, epoch=27/50, avg_epoch_loss=6.45]\n",
      "100%|██████████| 50/50 [00:00<00:00, 159.36it/s, epoch=28/50, avg_epoch_loss=6.45]\n",
      "100%|██████████| 50/50 [00:00<00:00, 161.96it/s, epoch=29/50, avg_epoch_loss=6.5]\n",
      "100%|██████████| 50/50 [00:00<00:00, 179.56it/s, epoch=30/50, avg_epoch_loss=6.44]\n",
      "100%|██████████| 50/50 [00:00<00:00, 155.79it/s, epoch=31/50, avg_epoch_loss=6.4]\n",
      "100%|██████████| 50/50 [00:00<00:00, 145.90it/s, epoch=32/50, avg_epoch_loss=6.47]\n",
      "100%|██████████| 50/50 [00:00<00:00, 162.56it/s, epoch=33/50, avg_epoch_loss=6.45]\n",
      "100%|██████████| 50/50 [00:00<00:00, 164.21it/s, epoch=34/50, avg_epoch_loss=6.46]\n",
      "100%|██████████| 50/50 [00:00<00:00, 163.19it/s, epoch=35/50, avg_epoch_loss=6.52]\n",
      "100%|██████████| 50/50 [00:00<00:00, 167.14it/s, epoch=36/50, avg_epoch_loss=6.49]\n",
      "100%|██████████| 50/50 [00:00<00:00, 149.18it/s, epoch=37/50, avg_epoch_loss=6.46]\n",
      "100%|██████████| 50/50 [00:00<00:00, 176.78it/s, epoch=38/50, avg_epoch_loss=6.45]\n",
      "100%|██████████| 50/50 [00:00<00:00, 179.91it/s, epoch=39/50, avg_epoch_loss=6.43]\n",
      "100%|██████████| 50/50 [00:00<00:00, 161.51it/s, epoch=40/50, avg_epoch_loss=6.45]\n",
      "100%|██████████| 50/50 [00:00<00:00, 165.81it/s, epoch=41/50, avg_epoch_loss=6.43]\n",
      "100%|██████████| 50/50 [00:00<00:00, 180.20it/s, epoch=42/50, avg_epoch_loss=6.47]\n",
      "100%|██████████| 50/50 [00:00<00:00, 175.21it/s, epoch=43/50, avg_epoch_loss=6.47]\n",
      "100%|██████████| 50/50 [00:00<00:00, 150.21it/s, epoch=44/50, avg_epoch_loss=6.47]\n",
      "100%|██████████| 50/50 [00:00<00:00, 188.28it/s, epoch=45/50, avg_epoch_loss=6.42]\n",
      "100%|██████████| 50/50 [00:00<00:00, 174.76it/s, epoch=46/50, avg_epoch_loss=6.42]\n",
      "100%|██████████| 50/50 [00:00<00:00, 155.27it/s, epoch=47/50, avg_epoch_loss=6.43]\n",
      "100%|██████████| 50/50 [00:00<00:00, 165.44it/s, epoch=48/50, avg_epoch_loss=6.5]\n",
      "100%|██████████| 50/50 [00:00<00:00, 151.52it/s, epoch=49/50, avg_epoch_loss=6.45]\n",
      "100%|██████████| 50/50 [00:00<00:00, 147.51it/s, epoch=50/50, avg_epoch_loss=6.4]\n"
     ]
    }
   ],
   "source": [
    "predictor = estimator.train(train_ds)"
   ]
  },
  {
   "cell_type": "markdown",
   "id": "d8e7cfb7",
   "metadata": {},
   "source": [
    "### Visualize and evaluate forecasts"
   ]
  },
  {
   "cell_type": "markdown",
   "id": "885c566b",
   "metadata": {},
   "source": [
    "With a predictor in hand, we can now predict the last window of the dataset.test and evaluate our model’s performance.\n",
    "\n",
    "GluonTS comes with the make_evaluation_predictions function that automates the process of prediction and model evaluation. Roughly, this function performs the following steps:\n",
    "\n",
    "Removes the final window of length prediction_length of the dataset.test that we want to predict\n",
    "\n",
    "The estimator uses the remaining data to predict (in the form of sample paths) the “future” window that was just removed\n",
    "\n",
    "The module outputs the forecast sample paths and the dataset.test (as python generator objects)"
   ]
  },
  {
   "cell_type": "code",
   "execution_count": 35,
   "id": "23e53b00",
   "metadata": {},
   "outputs": [],
   "source": [
    "from gluonts.evaluation import make_evaluation_predictions"
   ]
  },
  {
   "cell_type": "code",
   "execution_count": 36,
   "id": "54dd07a1",
   "metadata": {},
   "outputs": [],
   "source": [
    "forecast_it, ts_it = make_evaluation_predictions(\n",
    "    dataset=test_ds,  # test dataset\n",
    "    predictor=predictor,  # predictor\n",
    "    num_samples=100,  # number of sample paths we want for evaluation\n",
    ")"
   ]
  },
  {
   "cell_type": "markdown",
   "id": "be2e9867",
   "metadata": {},
   "source": [
    "First, we can convert these generators to lists to ease the subsequent computations."
   ]
  },
  {
   "cell_type": "code",
   "execution_count": 37,
   "id": "52cce828",
   "metadata": {},
   "outputs": [],
   "source": [
    "forecasts = list(forecast_it)\n",
    "tss = list(ts_it)"
   ]
  },
  {
   "cell_type": "markdown",
   "id": "07fe3ff3",
   "metadata": {},
   "source": [
    "We can examine the first element of these lists (that corresponds to the first time series of the dataset). Let’s start with the list containing the time series, i.e., tss. We expect the first entry of tss to contain the (target of the) first time series of dataset.test."
   ]
  },
  {
   "cell_type": "code",
   "execution_count": 38,
   "id": "2a91eec6",
   "metadata": {},
   "outputs": [],
   "source": [
    "# first entry of the time series list\n",
    "ts_entry = tss[0]"
   ]
  },
  {
   "cell_type": "code",
   "execution_count": 39,
   "id": "2e61d996",
   "metadata": {},
   "outputs": [
    {
     "data": {
      "text/plain": [
       "array([11847.55, 11841.55, 11788.85, 11865.6 , 11910.3 ], dtype=float32)"
      ]
     },
     "execution_count": 39,
     "metadata": {},
     "output_type": "execute_result"
    }
   ],
   "source": [
    "# first 5 values of the time series (convert from pandas to numpy)\n",
    "np.array(ts_entry[:5]).reshape(-1,)"
   ]
  },
  {
   "cell_type": "code",
   "execution_count": 40,
   "id": "219af13f",
   "metadata": {},
   "outputs": [],
   "source": [
    "# first entry of dataset.test\n",
    "dataset_test_entry = next(iter(test_ds))"
   ]
  },
  {
   "cell_type": "code",
   "execution_count": 41,
   "id": "73aa27ef",
   "metadata": {},
   "outputs": [
    {
     "data": {
      "text/plain": [
       "array([11847.55, 11841.55, 11788.85, 11865.6 , 11910.3 ], dtype=float32)"
      ]
     },
     "execution_count": 41,
     "metadata": {},
     "output_type": "execute_result"
    }
   ],
   "source": [
    "# first 5 values\n",
    "dataset_test_entry['target'][:5]"
   ]
  },
  {
   "cell_type": "markdown",
   "id": "2f4b1855",
   "metadata": {},
   "source": [
    "The entries in the forecast list are a bit more complex. They are objects that contain all the sample paths in the form of numpy.ndarray with dimension (num_samples, prediction_length), the start date of the forecast, the frequency of the time series, etc. We can access all these information by simply invoking the corresponding attribute of the forecast object."
   ]
  },
  {
   "cell_type": "code",
   "execution_count": 42,
   "id": "62b94c4d",
   "metadata": {},
   "outputs": [
    {
     "data": {
      "text/plain": [
       "1"
      ]
     },
     "execution_count": 42,
     "metadata": {},
     "output_type": "execute_result"
    }
   ],
   "source": [
    "len(forecasts)"
   ]
  },
  {
   "cell_type": "code",
   "execution_count": 43,
   "id": "5b868c86",
   "metadata": {},
   "outputs": [],
   "source": [
    "# first entry of the forecast list\n",
    "forecast_entry = forecasts[0]"
   ]
  },
  {
   "cell_type": "code",
   "execution_count": 44,
   "id": "00d08382",
   "metadata": {},
   "outputs": [
    {
     "name": "stdout",
     "output_type": "stream",
     "text": [
      "Number of sample paths: 100\n",
      "Dimension of samples: (100, 5)\n",
      "Start date of the forecast window: 2021-06-17 00:00:00\n",
      "Frequency of the time series: 1B\n"
     ]
    }
   ],
   "source": [
    "print(f\"Number of sample paths: {forecast_entry.num_samples}\")\n",
    "print(f\"Dimension of samples: {forecast_entry.samples.shape}\")\n",
    "print(f\"Start date of the forecast window: {forecast_entry.start_date}\")\n",
    "print(f\"Frequency of the time series: {forecast_entry.freq}\")"
   ]
  },
  {
   "cell_type": "markdown",
   "id": "d8af6148",
   "metadata": {},
   "source": [
    "1B == 1 Business Day; https://pandas.pydata.org/docs/user_guide/timeseries.html#timeseries-offset-aliases\n",
    "<br/><br/>We can also do calculations to summarize the sample paths, such computing the mean or a quantile for each of the 48 time steps in the forecast window."
   ]
  },
  {
   "cell_type": "code",
   "execution_count": 45,
   "id": "ce16ebb3",
   "metadata": {},
   "outputs": [
    {
     "name": "stdout",
     "output_type": "stream",
     "text": [
      "Mean of the future window:\n",
      " [15815.8   15827.457 15786.902 15816.119 15866.224]\n",
      "0.5-quantile (median) of the future window:\n",
      " [15811.04  15864.418 15747.344 15788.492 15866.252]\n"
     ]
    }
   ],
   "source": [
    "print(f\"Mean of the future window:\\n {forecast_entry.mean}\")\n",
    "print(f\"0.5-quantile (median) of the future window:\\n {forecast_entry.quantile(0.5)}\")"
   ]
  },
  {
   "cell_type": "markdown",
   "id": "c07e99f9",
   "metadata": {},
   "source": [
    "Forecast objects have a plot method that can summarize the forecast paths as the mean, prediction intervals, etc. The prediction intervals are shaded in different colors as a “fan chart”.\n",
    "\n"
   ]
  },
  {
   "cell_type": "code",
   "execution_count": 46,
   "id": "e1a548a7",
   "metadata": {},
   "outputs": [
    {
     "data": {
      "image/png": "[encoded data removed]",
      "text/plain": [
       "<Figure size 1080x504 with 1 Axes>"
      ]
     },
     "metadata": {
      "needs_background": "light"
     },
     "output_type": "display_data"
    }
   ],
   "source": [
    "def plot_prob_forecasts(ts_entry, forecast_entry):\n",
    "    plot_length = nifty_data_metadata['num_steps']\n",
    "    prediction_intervals = (50.0, 90.0)\n",
    "    legend = [\"observations\", \"median prediction\"] + [f\"{k}% prediction interval\" for k in prediction_intervals][::-1]\n",
    "\n",
    "    fig, ax = plt.subplots(1, 1, figsize=(15, 7))\n",
    "    ts_entry[-plot_length:].plot(ax=ax)  # plot the time series\n",
    "    forecast_entry.plot(prediction_intervals=prediction_intervals, color='g')\n",
    "    plt.grid(which=\"both\")\n",
    "    plt.legend(legend, loc=\"upper left\")\n",
    "    plt.show()\n",
    "plot_prob_forecasts(ts_entry, forecast_entry)"
   ]
  },
  {
   "cell_type": "markdown",
   "id": "ea5632b3",
   "metadata": {},
   "source": [
    "We can also evaluate the quality of our forecasts numerically. In GluonTS, the Evaluator class can compute aggregate performance metrics, as well as metrics per time series (which can be useful for analyzing performance across heterogeneous time series).\n",
    "\n"
   ]
  },
  {
   "cell_type": "code",
   "execution_count": 47,
   "id": "9b192b58",
   "metadata": {},
   "outputs": [
    {
     "name": "stderr",
     "output_type": "stream",
     "text": [
      "Running evaluation: 100%|██████████| 1/1 [00:00<00:00, 61.93it/s]\n"
     ]
    }
   ],
   "source": [
    "evaluator = MyEvaluator(quantiles=[0.1, 0.5, 0.9])\n",
    "agg_metrics, item_metrics = evaluator(iter(tss), iter(forecasts), num_series=len(test_ds))"
   ]
  },
  {
   "cell_type": "code",
   "execution_count": 48,
   "id": "acd9838a",
   "metadata": {},
   "outputs": [
    {
     "name": "stdout",
     "output_type": "stream",
     "text": [
      "{\n",
      "    \"MSE\": 4941.45546875,\n",
      "    \"abs_error\": 282.5654296875,\n",
      "    \"abs_target_sum\": 78821.796875,\n",
      "    \"abs_target_mean\": 15764.359375,\n",
      "    \"seasonal_error\": 255.02357509784736,\n",
      "    \"MASE\": 0.22159945768079317,\n",
      "    \"MAPE\": 0.0035875994712114335,\n",
      "    \"sMAPE\": 0.0035771839320659637,\n",
      "    \"MSIS\": 5.111306711300601,\n",
      "    \"QuantileLoss[0.1]\": 304.142578125,\n",
      "    \"Coverage[0.1]\": 0.0,\n",
      "    \"QuantileLoss[0.5]\": 282.5654296875,\n",
      "    \"Coverage[0.5]\": 0.8,\n",
      "    \"QuantileLoss[0.9]\": 438.68710937499986,\n",
      "    \"Coverage[0.9]\": 1.0,\n",
      "    \"RMSE\": 70.29548683059248,\n",
      "    \"NRMSE\": 0.004459140086724424,\n",
      "    \"ND\": 0.003584864097117806,\n",
      "    \"wQuantileLoss[0.1]\": 0.003858610056902487,\n",
      "    \"wQuantileLoss[0.5]\": 0.003584864097117806,\n",
      "    \"wQuantileLoss[0.9]\": 0.00556555580775067,\n",
      "    \"mean_absolute_QuantileLoss\": 341.79837239583327,\n",
      "    \"mean_wQuantileLoss\": 0.004336343320590321,\n",
      "    \"MAE_Coverage\": 0.16666666666666666,\n",
      "    \"OWA\": NaN,\n",
      "    \"POCID\": 50.0,\n",
      "    \"Theil's U\": 1.635540246963501\n",
      "}\n"
     ]
    }
   ],
   "source": [
    "print(json.dumps(agg_metrics, indent=4))"
   ]
  },
  {
   "cell_type": "code",
   "execution_count": 49,
   "id": "9266aff3",
   "metadata": {},
   "outputs": [
    {
     "data": {
      "text/html": [
       "<div>\n",
       "<style scoped>\n",
       "    .dataframe tbody tr th:only-of-type {\n",
       "        vertical-align: middle;\n",
       "    }\n",
       "\n",
       "    .dataframe tbody tr th {\n",
       "        vertical-align: top;\n",
       "    }\n",
       "\n",
       "    .dataframe thead th {\n",
       "        text-align: right;\n",
       "    }\n",
       "</style>\n",
       "<table border=\"1\" class=\"dataframe\">\n",
       "  <thead>\n",
       "    <tr style=\"text-align: right;\">\n",
       "      <th></th>\n",
       "      <th>item_id</th>\n",
       "      <th>MSE</th>\n",
       "      <th>abs_error</th>\n",
       "      <th>abs_target_sum</th>\n",
       "      <th>abs_target_mean</th>\n",
       "      <th>seasonal_error</th>\n",
       "      <th>MASE</th>\n",
       "      <th>MAPE</th>\n",
       "      <th>sMAPE</th>\n",
       "      <th>MSIS</th>\n",
       "      <th>QuantileLoss[0.1]</th>\n",
       "      <th>Coverage[0.1]</th>\n",
       "      <th>QuantileLoss[0.5]</th>\n",
       "      <th>Coverage[0.5]</th>\n",
       "      <th>QuantileLoss[0.9]</th>\n",
       "      <th>Coverage[0.9]</th>\n",
       "      <th>POCID</th>\n",
       "      <th>Theil's U</th>\n",
       "    </tr>\n",
       "  </thead>\n",
       "  <tbody>\n",
       "    <tr>\n",
       "      <th>0</th>\n",
       "      <td>NaN</td>\n",
       "      <td>4941.455469</td>\n",
       "      <td>282.56543</td>\n",
       "      <td>78821.796875</td>\n",
       "      <td>15764.359375</td>\n",
       "      <td>255.023575</td>\n",
       "      <td>0.221599</td>\n",
       "      <td>0.003588</td>\n",
       "      <td>0.003577</td>\n",
       "      <td>5.111307</td>\n",
       "      <td>304.142578</td>\n",
       "      <td>0.0</td>\n",
       "      <td>282.56543</td>\n",
       "      <td>0.8</td>\n",
       "      <td>438.687109</td>\n",
       "      <td>1.0</td>\n",
       "      <td>50.0</td>\n",
       "      <td>1.63554</td>\n",
       "    </tr>\n",
       "  </tbody>\n",
       "</table>\n",
       "</div>"
      ],
      "text/plain": [
       "   item_id          MSE  abs_error  abs_target_sum  abs_target_mean  \\\n",
       "0      NaN  4941.455469  282.56543    78821.796875     15764.359375   \n",
       "\n",
       "   seasonal_error      MASE      MAPE     sMAPE      MSIS  QuantileLoss[0.1]  \\\n",
       "0      255.023575  0.221599  0.003588  0.003577  5.111307         304.142578   \n",
       "\n",
       "   Coverage[0.1]  QuantileLoss[0.5]  Coverage[0.5]  QuantileLoss[0.9]  \\\n",
       "0            0.0          282.56543            0.8         438.687109   \n",
       "\n",
       "   Coverage[0.9]  POCID  Theil's U  \n",
       "0            1.0   50.0    1.63554  "
      ]
     },
     "execution_count": 49,
     "metadata": {},
     "output_type": "execute_result"
    }
   ],
   "source": [
    "item_metrics.head()"
   ]
  },
  {
   "cell_type": "code",
   "execution_count": 50,
   "id": "7e75e40e",
   "metadata": {},
   "outputs": [
    {
     "data": {
      "image/png": "[encoded data removed]",
      "text/plain": [
       "<Figure size 432x288 with 1 Axes>"
      ]
     },
     "metadata": {
      "needs_background": "light"
     },
     "output_type": "display_data"
    }
   ],
   "source": [
    "item_metrics.plot(x='MSIS', y='MASE', kind='scatter')\n",
    "plt.grid(which=\"both\")\n",
    "plt.show()"
   ]
  },
  {
   "cell_type": "code",
   "execution_count": null,
   "id": "2760fdd9",
   "metadata": {},
   "outputs": [],
   "source": []
  },
  {
   "cell_type": "code",
   "execution_count": null,
   "id": "4a9f6833",
   "metadata": {},
   "outputs": [],
   "source": []
  },
  {
   "cell_type": "code",
   "execution_count": null,
   "id": "e3bc9e68",
   "metadata": {},
   "outputs": [],
   "source": []
  },
  {
   "cell_type": "markdown",
   "id": "c78fed63",
   "metadata": {},
   "source": [
    "# Deep Factor - RNN (DFRNN)"
   ]
  },
  {
   "cell_type": "code",
   "execution_count": 51,
   "id": "fd0e1015",
   "metadata": {},
   "outputs": [
    {
     "data": {
      "text/plain": [
       "{'num_series': 1,\n",
       " 'num_steps': 10,\n",
       " 'context_length': 5,\n",
       " 'prediction_length': 5,\n",
       " 'freq': '1B',\n",
       " 'train_len': 2100,\n",
       " 'train_num_of_series': 1,\n",
       " 'test_num_of_series': 1,\n",
       " 'test_len': 521}"
      ]
     },
     "execution_count": 51,
     "metadata": {},
     "output_type": "execute_result"
    }
   ],
   "source": [
    "nifty_data_metadata"
   ]
  },
  {
   "cell_type": "code",
   "execution_count": 54,
   "id": "b82e68ba",
   "metadata": {},
   "outputs": [],
   "source": [
    "from gluonts.model.deep_factor import DeepFactorEstimator\n",
    "from gluonts.mx.distribution import StudentTOutput\n",
    "# With default values\n",
    "DeepFactorBasic = DeepFactorEstimator(freq=nifty_data_metadata['freq'],\n",
    "                                      context_length=nifty_data_metadata['context_length'],\n",
    "                                      prediction_length=nifty_data_metadata['prediction_length'],\n",
    "                                      num_layers_global=1, num_layers_local=5,\n",
    "                                      num_hidden_global=50, num_hidden_local=5,\n",
    "                                      cell_type='lstm', cardinality=[nifty_data_metadata['train_num_of_series']],\n",
    "                                      trainer=Trainer(ctx=ctx, epochs=50, learning_rate=1e-3,\n",
    "                                                    hybridize=True, num_batches_per_epoch=100))"
   ]
  },
  {
   "cell_type": "code",
   "execution_count": 55,
   "id": "4c9c2c90",
   "metadata": {
    "scrolled": true
   },
   "outputs": [
    {
     "name": "stderr",
     "output_type": "stream",
     "text": [
      "100%|██████████| 100/100 [00:00<00:00, 100.46it/s, epoch=1/50, avg_epoch_loss=9.78e+7]\n",
      "100%|██████████| 100/100 [00:00<00:00, 107.52it/s, epoch=2/50, avg_epoch_loss=1.98e+7]\n",
      "100%|██████████| 100/100 [00:00<00:00, 106.55it/s, epoch=3/50, avg_epoch_loss=3.15e+6]\n",
      "100%|██████████| 100/100 [00:00<00:00, 108.99it/s, epoch=4/50, avg_epoch_loss=8.56e+3]\n",
      "100%|██████████| 100/100 [00:00<00:00, 109.09it/s, epoch=5/50, avg_epoch_loss=2.38e+3]\n",
      "100%|██████████| 100/100 [00:00<00:00, 107.52it/s, epoch=6/50, avg_epoch_loss=1.51e+3]\n",
      "100%|██████████| 100/100 [00:00<00:00, 107.55it/s, epoch=7/50, avg_epoch_loss=1.1e+3]\n",
      "100%|██████████| 100/100 [00:01<00:00, 94.55it/s, epoch=8/50, avg_epoch_loss=897]\n",
      "100%|██████████| 100/100 [00:01<00:00, 98.59it/s, epoch=9/50, avg_epoch_loss=769]\n",
      "100%|██████████| 100/100 [00:00<00:00, 113.91it/s, epoch=10/50, avg_epoch_loss=658]\n",
      "100%|██████████| 100/100 [00:00<00:00, 106.39it/s, epoch=11/50, avg_epoch_loss=580]\n",
      "100%|██████████| 100/100 [00:00<00:00, 108.11it/s, epoch=12/50, avg_epoch_loss=518]\n",
      "100%|██████████| 100/100 [00:00<00:00, 108.08it/s, epoch=13/50, avg_epoch_loss=457]\n",
      "100%|██████████| 100/100 [00:00<00:00, 107.18it/s, epoch=14/50, avg_epoch_loss=412]\n",
      "100%|██████████| 100/100 [00:00<00:00, 109.92it/s, epoch=15/50, avg_epoch_loss=375]\n",
      "100%|██████████| 100/100 [00:00<00:00, 100.46it/s, epoch=16/50, avg_epoch_loss=336]\n",
      "100%|██████████| 100/100 [00:00<00:00, 107.56it/s, epoch=17/50, avg_epoch_loss=308]\n",
      "100%|██████████| 100/100 [00:00<00:00, 108.13it/s, epoch=18/50, avg_epoch_loss=285]\n",
      "100%|██████████| 100/100 [00:00<00:00, 108.95it/s, epoch=19/50, avg_epoch_loss=258]\n",
      "100%|██████████| 100/100 [00:00<00:00, 108.17it/s, epoch=20/50, avg_epoch_loss=239]\n",
      "100%|██████████| 100/100 [00:00<00:00, 105.66it/s, epoch=21/50, avg_epoch_loss=224]\n",
      "100%|██████████| 100/100 [00:00<00:00, 101.63it/s, epoch=22/50, avg_epoch_loss=205]\n",
      "100%|██████████| 100/100 [00:00<00:00, 103.00it/s, epoch=23/50, avg_epoch_loss=192]\n",
      "100%|██████████| 100/100 [00:00<00:00, 106.46it/s, epoch=24/50, avg_epoch_loss=181]\n",
      "100%|██████████| 100/100 [00:00<00:00, 103.80it/s, epoch=25/50, avg_epoch_loss=167]\n",
      "100%|██████████| 100/100 [00:00<00:00, 103.06it/s, epoch=26/50, avg_epoch_loss=157]\n",
      "100%|██████████| 100/100 [00:00<00:00, 105.67it/s, epoch=27/50, avg_epoch_loss=149]\n",
      "100%|██████████| 100/100 [00:00<00:00, 104.30it/s, epoch=28/50, avg_epoch_loss=139]\n",
      "100%|██████████| 100/100 [00:00<00:00, 104.91it/s, epoch=29/50, avg_epoch_loss=131]\n",
      "100%|██████████| 100/100 [00:00<00:00, 108.07it/s, epoch=30/50, avg_epoch_loss=125]\n",
      "100%|██████████| 100/100 [00:00<00:00, 105.55it/s, epoch=31/50, avg_epoch_loss=117]\n",
      "100%|██████████| 100/100 [00:01<00:00, 92.12it/s, epoch=32/50, avg_epoch_loss=112]\n",
      "100%|██████████| 100/100 [00:00<00:00, 106.24it/s, epoch=33/50, avg_epoch_loss=107]\n",
      "100%|██████████| 100/100 [00:00<00:00, 106.17it/s, epoch=34/50, avg_epoch_loss=101]\n",
      "100%|██████████| 100/100 [00:00<00:00, 106.96it/s, epoch=35/50, avg_epoch_loss=96.2]\n",
      "100%|██████████| 100/100 [00:00<00:00, 105.00it/s, epoch=36/50, avg_epoch_loss=92.5]\n",
      "100%|██████████| 100/100 [00:00<00:00, 103.67it/s, epoch=37/50, avg_epoch_loss=87.3]\n",
      "100%|██████████| 100/100 [00:00<00:00, 102.07it/s, epoch=38/50, avg_epoch_loss=83.8]\n",
      "100%|██████████| 100/100 [00:00<00:00, 100.52it/s, epoch=39/50, avg_epoch_loss=80.9]\n",
      "100%|██████████| 100/100 [00:01<00:00, 98.99it/s, epoch=40/50, avg_epoch_loss=76.6]\n",
      "100%|██████████| 100/100 [00:00<00:00, 108.27it/s, epoch=41/50, avg_epoch_loss=73.8]\n",
      "100%|██████████| 100/100 [00:00<00:00, 102.81it/s, epoch=42/50, avg_epoch_loss=71.5]\n",
      "100%|██████████| 100/100 [00:00<00:00, 104.91it/s, epoch=43/50, avg_epoch_loss=67.9]\n",
      "100%|██████████| 100/100 [00:00<00:00, 100.55it/s, epoch=44/50, avg_epoch_loss=65.6]\n",
      "100%|██████████| 100/100 [00:00<00:00, 102.63it/s, epoch=45/50, avg_epoch_loss=63.8]\n",
      "100%|██████████| 100/100 [00:00<00:00, 101.60it/s, epoch=46/50, avg_epoch_loss=60.8]\n",
      "100%|██████████| 100/100 [00:00<00:00, 102.63it/s, epoch=47/50, avg_epoch_loss=59]\n",
      "100%|██████████| 100/100 [00:00<00:00, 101.40it/s, epoch=48/50, avg_epoch_loss=57.6]\n",
      "100%|██████████| 100/100 [00:01<00:00, 99.57it/s, epoch=49/50, avg_epoch_loss=55.1]\n",
      "100%|██████████| 100/100 [00:00<00:00, 102.48it/s, epoch=50/50, avg_epoch_loss=53.6]\n",
      "WARNING:root:Serializing RepresentableBlockPredictor instances does not save the prediction network structure in a backwards-compatible manner. Be careful not to use this method in production.\n"
     ]
    }
   ],
   "source": [
    "try:\n",
    "    deepFactorPredictor = Predictor.deserialize(Path(\"./models/DeepFactorBasic/\"))\n",
    "    print(\"Loaded from memory\")\n",
    "except:\n",
    "    deepFactorPredictor = DeepFactorBasic.train(train_ds)\n",
    "    deepFactorPredictor.serialize(Path(\"./models/DeepFactorBasic/\"))"
   ]
  },
  {
   "cell_type": "code",
   "execution_count": 59,
   "id": "f6b481fa",
   "metadata": {},
   "outputs": [],
   "source": [
    "forecast_it, ts_it = make_evaluation_predictions(\n",
    "    dataset=test_ds,  # test dataset\n",
    "    predictor=deepFactorPredictor,  # predictor\n",
    "    num_samples=100,  # number of sample paths we want for evaluation\n",
    ")"
   ]
  },
  {
   "cell_type": "code",
   "execution_count": 60,
   "id": "cb1e562e",
   "metadata": {},
   "outputs": [],
   "source": [
    "deepFactor_forecasts = list(forecast_it)\n",
    "deepFactor_tss = list(ts_it)"
   ]
  },
  {
   "cell_type": "code",
   "execution_count": 61,
   "id": "d6a97a7f",
   "metadata": {},
   "outputs": [
    {
     "name": "stdout",
     "output_type": "stream",
     "text": [
      "[11847.55 11841.55 11788.85 11865.6  11910.3 ]\n",
      "[11847.55 11841.55 11788.85 11865.6  11910.3 ]\n"
     ]
    }
   ],
   "source": [
    "# first entry of the time series list\n",
    "ts_entry = deepFactor_tss[0]\n",
    "# first 5 values of the time series (convert from pandas to numpy)\n",
    "print(np.array(ts_entry[:5]).reshape(-1,))\n",
    "# first entry of dataset.test\n",
    "dataset_test_entry = next(iter(test_ds))\n",
    "# first 5 values\n",
    "print(dataset_test_entry['target'][:5])"
   ]
  },
  {
   "cell_type": "code",
   "execution_count": 62,
   "id": "2d404bcc",
   "metadata": {},
   "outputs": [
    {
     "name": "stdout",
     "output_type": "stream",
     "text": [
      "1\n",
      "Number of sample paths: 100\n",
      "Dimension of samples: (100, 5)\n",
      "Start date of the forecast window: 2021-06-17 00:00:00\n",
      "Frequency of the time series: 1B\n"
     ]
    }
   ],
   "source": [
    "print(len(deepFactor_forecasts))\n",
    "# first entry of the forecast list\n",
    "forecast_entry = deepFactor_forecasts[0]\n",
    "print(f\"Number of sample paths: {forecast_entry.num_samples}\")\n",
    "print(f\"Dimension of samples: {forecast_entry.samples.shape}\")\n",
    "print(f\"Start date of the forecast window: {forecast_entry.start_date}\")\n",
    "print(f\"Frequency of the time series: {forecast_entry.freq}\")"
   ]
  },
  {
   "cell_type": "code",
   "execution_count": 63,
   "id": "4819914b",
   "metadata": {},
   "outputs": [
    {
     "name": "stdout",
     "output_type": "stream",
     "text": [
      "Mean of the future window:\n",
      " [ 9943.468  8696.597 23411.627 14537.724 14287.767]\n",
      "0.5-quantile (median) of the future window:\n",
      " [ 9942.634  8692.923 23411.738 14541.067 14291.093]\n"
     ]
    }
   ],
   "source": [
    "print(f\"Mean of the future window:\\n {forecast_entry.mean}\")\n",
    "print(f\"0.5-quantile (median) of the future window:\\n {forecast_entry.quantile(0.5)}\")"
   ]
  },
  {
   "cell_type": "code",
   "execution_count": 64,
   "id": "8b54ae45",
   "metadata": {},
   "outputs": [
    {
     "data": {
      "image/png": "[encoded data removed]",
      "text/plain": [
       "<Figure size 1080x504 with 1 Axes>"
      ]
     },
     "metadata": {
      "needs_background": "light"
     },
     "output_type": "display_data"
    }
   ],
   "source": [
    "def plot_prob_forecasts(ts_entry, forecast_entry):\n",
    "    plot_length = nifty_data_metadata['num_steps']\n",
    "    prediction_intervals = (50.0, 90.0)\n",
    "    legend = [\"observations\", \"median prediction\"] + [f\"{k}% prediction interval\" for k in prediction_intervals][::-1]\n",
    "\n",
    "    fig, ax = plt.subplots(1, 1, figsize=(15, 7))\n",
    "    ts_entry[-plot_length:].plot(ax=ax)  # plot the time series\n",
    "    forecast_entry.plot(prediction_intervals=prediction_intervals, color='g')\n",
    "    plt.grid(which=\"both\")\n",
    "    plt.legend(legend, loc=\"upper left\")\n",
    "    plt.show()\n",
    "plot_prob_forecasts(ts_entry, forecast_entry)"
   ]
  },
  {
   "cell_type": "code",
   "execution_count": 65,
   "id": "5a3ff1c6",
   "metadata": {},
   "outputs": [
    {
     "name": "stderr",
     "output_type": "stream",
     "text": [
      "Running evaluation: 100%|██████████| 1/1 [00:00<00:00, 125.05it/s]\n"
     ]
    }
   ],
   "source": [
    "from gluonts.evaluation import Evaluator\n",
    "evaluator = MyEvaluator(quantiles=[0.1, 0.5, 0.9])\n",
    "agg_metrics, item_metrics = evaluator(iter(deepFactor_tss), iter(deepFactor_forecasts), num_series=len(test_ds))"
   ]
  },
  {
   "cell_type": "code",
   "execution_count": 66,
   "id": "81d95764",
   "metadata": {},
   "outputs": [
    {
     "name": "stdout",
     "output_type": "stream",
     "text": [
      "{\n",
      "    \"MSE\": 29465312.0,\n",
      "    \"abs_error\": 23347.021484375,\n",
      "    \"abs_target_sum\": 78821.796875,\n",
      "    \"abs_target_mean\": 15764.359375,\n",
      "    \"seasonal_error\": 255.02357509784736,\n",
      "    \"MASE\": 18.309696643078762,\n",
      "    \"MAPE\": 0.29634785652160645,\n",
      "    \"sMAPE\": 0.32142176628112795,\n",
      "    \"MSIS\": 723.4249811187643,\n",
      "    \"QuantileLoss[0.1]\": 16950.514843750003,\n",
      "    \"Coverage[0.1]\": 0.2,\n",
      "    \"QuantileLoss[0.5]\": 23347.021484375,\n",
      "    \"Coverage[0.5]\": 0.2,\n",
      "    \"QuantileLoss[0.9]\": 29445.046875000004,\n",
      "    \"Coverage[0.9]\": 0.2,\n",
      "    \"RMSE\": 5428.196017094446,\n",
      "    \"NRMSE\": 0.3443334351856239,\n",
      "    \"ND\": 0.2962000666059416,\n",
      "    \"wQuantileLoss[0.1]\": 0.2150485717882209,\n",
      "    \"wQuantileLoss[0.5]\": 0.2962000666059416,\n",
      "    \"wQuantileLoss[0.9]\": 0.37356477576495245,\n",
      "    \"mean_absolute_QuantileLoss\": 23247.527734375002,\n",
      "    \"mean_wQuantileLoss\": 0.29493780471970504,\n",
      "    \"MAE_Coverage\": 0.3666666666666667,\n",
      "    \"OWA\": NaN,\n",
      "    \"POCID\": 50.0,\n",
      "    \"Theil's U\": 9169.109375\n",
      "}\n"
     ]
    }
   ],
   "source": [
    "print(json.dumps(agg_metrics, indent=4))"
   ]
  },
  {
   "cell_type": "code",
   "execution_count": 67,
   "id": "c2592f17",
   "metadata": {},
   "outputs": [
    {
     "data": {
      "text/html": [
       "<div>\n",
       "<style scoped>\n",
       "    .dataframe tbody tr th:only-of-type {\n",
       "        vertical-align: middle;\n",
       "    }\n",
       "\n",
       "    .dataframe tbody tr th {\n",
       "        vertical-align: top;\n",
       "    }\n",
       "\n",
       "    .dataframe thead th {\n",
       "        text-align: right;\n",
       "    }\n",
       "</style>\n",
       "<table border=\"1\" class=\"dataframe\">\n",
       "  <thead>\n",
       "    <tr style=\"text-align: right;\">\n",
       "      <th></th>\n",
       "      <th>item_id</th>\n",
       "      <th>MSE</th>\n",
       "      <th>abs_error</th>\n",
       "      <th>abs_target_sum</th>\n",
       "      <th>abs_target_mean</th>\n",
       "      <th>seasonal_error</th>\n",
       "      <th>MASE</th>\n",
       "      <th>MAPE</th>\n",
       "      <th>sMAPE</th>\n",
       "      <th>MSIS</th>\n",
       "      <th>QuantileLoss[0.1]</th>\n",
       "      <th>Coverage[0.1]</th>\n",
       "      <th>QuantileLoss[0.5]</th>\n",
       "      <th>Coverage[0.5]</th>\n",
       "      <th>QuantileLoss[0.9]</th>\n",
       "      <th>Coverage[0.9]</th>\n",
       "      <th>POCID</th>\n",
       "      <th>Theil's U</th>\n",
       "    </tr>\n",
       "  </thead>\n",
       "  <tbody>\n",
       "    <tr>\n",
       "      <th>0</th>\n",
       "      <td>NaN</td>\n",
       "      <td>29465312.0</td>\n",
       "      <td>23347.021484</td>\n",
       "      <td>78821.796875</td>\n",
       "      <td>15764.359375</td>\n",
       "      <td>255.023575</td>\n",
       "      <td>18.309697</td>\n",
       "      <td>0.296348</td>\n",
       "      <td>0.321422</td>\n",
       "      <td>723.424981</td>\n",
       "      <td>16950.514844</td>\n",
       "      <td>0.2</td>\n",
       "      <td>23347.021484</td>\n",
       "      <td>0.2</td>\n",
       "      <td>29445.046875</td>\n",
       "      <td>0.2</td>\n",
       "      <td>50.0</td>\n",
       "      <td>9169.109375</td>\n",
       "    </tr>\n",
       "  </tbody>\n",
       "</table>\n",
       "</div>"
      ],
      "text/plain": [
       "   item_id         MSE     abs_error  abs_target_sum  abs_target_mean  \\\n",
       "0      NaN  29465312.0  23347.021484    78821.796875     15764.359375   \n",
       "\n",
       "   seasonal_error       MASE      MAPE     sMAPE        MSIS  \\\n",
       "0      255.023575  18.309697  0.296348  0.321422  723.424981   \n",
       "\n",
       "   QuantileLoss[0.1]  Coverage[0.1]  QuantileLoss[0.5]  Coverage[0.5]  \\\n",
       "0       16950.514844            0.2       23347.021484            0.2   \n",
       "\n",
       "   QuantileLoss[0.9]  Coverage[0.9]  POCID    Theil's U  \n",
       "0       29445.046875            0.2   50.0  9169.109375  "
      ]
     },
     "execution_count": 67,
     "metadata": {},
     "output_type": "execute_result"
    }
   ],
   "source": [
    "item_metrics.head()"
   ]
  },
  {
   "cell_type": "code",
   "execution_count": 68,
   "id": "4a064d4d",
   "metadata": {},
   "outputs": [
    {
     "data": {
      "image/png": "[encoded data removed]",
      "text/plain": [
       "<Figure size 432x288 with 1 Axes>"
      ]
     },
     "metadata": {
      "needs_background": "light"
     },
     "output_type": "display_data"
    }
   ],
   "source": [
    "item_metrics.plot(x='MSIS', y='MASE', kind='scatter')\n",
    "plt.grid(which=\"both\")\n",
    "plt.show()"
   ]
  },
  {
   "cell_type": "code",
   "execution_count": null,
   "id": "196517e8",
   "metadata": {},
   "outputs": [],
   "source": []
  },
  {
   "cell_type": "code",
   "execution_count": null,
   "id": "753c7f23",
   "metadata": {},
   "outputs": [],
   "source": []
  },
  {
   "cell_type": "markdown",
   "id": "9acc47b2",
   "metadata": {},
   "source": [
    "# DeepAR"
   ]
  },
  {
   "cell_type": "code",
   "execution_count": 69,
   "id": "f1136a2f",
   "metadata": {},
   "outputs": [],
   "source": [
    "from gluonts.model.deepar import DeepAREstimator\n",
    "# Default Params\n",
    "DeepARBasic = DeepAREstimator(freq=nifty_data_metadata['freq'],\n",
    "                              prediction_length=nifty_data_metadata['prediction_length'],\n",
    "                              context_length=nifty_data_metadata['context_length'],\n",
    "                              num_layers=3, num_cells=40, cell_type=\"lstm\", scaling=True,\n",
    "                              trainer=Trainer(ctx=ctx, epochs=50, learning_rate=1e-3,\n",
    "                                             hybridize=True, num_batches_per_epoch=100))"
   ]
  },
  {
   "cell_type": "code",
   "execution_count": 70,
   "id": "7ae8c46d",
   "metadata": {},
   "outputs": [
    {
     "name": "stderr",
     "output_type": "stream",
     "text": [
      "100%|██████████| 100/100 [00:02<00:00, 37.08it/s, epoch=1/50, avg_epoch_loss=8.36]\n",
      "100%|██████████| 100/100 [00:02<00:00, 42.58it/s, epoch=2/50, avg_epoch_loss=6.99]\n",
      "100%|██████████| 100/100 [00:02<00:00, 45.32it/s, epoch=3/50, avg_epoch_loss=6.71]\n",
      "100%|██████████| 100/100 [00:02<00:00, 43.78it/s, epoch=4/50, avg_epoch_loss=6.56]\n",
      "100%|██████████| 100/100 [00:02<00:00, 45.48it/s, epoch=5/50, avg_epoch_loss=6.52]\n",
      "100%|██████████| 100/100 [00:02<00:00, 44.19it/s, epoch=6/50, avg_epoch_loss=6.45]\n",
      "100%|██████████| 100/100 [00:02<00:00, 42.05it/s, epoch=7/50, avg_epoch_loss=6.43]\n",
      "100%|██████████| 100/100 [00:02<00:00, 43.18it/s, epoch=8/50, avg_epoch_loss=6.47]\n",
      "100%|██████████| 100/100 [00:02<00:00, 45.63it/s, epoch=9/50, avg_epoch_loss=6.4]\n",
      "100%|██████████| 100/100 [00:02<00:00, 44.22it/s, epoch=10/50, avg_epoch_loss=6.31]\n",
      "100%|██████████| 100/100 [00:02<00:00, 43.62it/s, epoch=11/50, avg_epoch_loss=6.29]\n",
      "100%|██████████| 100/100 [00:02<00:00, 43.59it/s, epoch=12/50, avg_epoch_loss=6.25]\n",
      "100%|██████████| 100/100 [00:02<00:00, 45.33it/s, epoch=13/50, avg_epoch_loss=6.23]\n",
      "100%|██████████| 100/100 [00:02<00:00, 39.83it/s, epoch=14/50, avg_epoch_loss=6.25]\n",
      "100%|██████████| 100/100 [00:02<00:00, 41.97it/s, epoch=15/50, avg_epoch_loss=6.17]\n",
      "100%|██████████| 100/100 [00:02<00:00, 42.90it/s, epoch=16/50, avg_epoch_loss=6.18]\n",
      "100%|██████████| 100/100 [00:02<00:00, 41.70it/s, epoch=17/50, avg_epoch_loss=6.2]\n",
      "100%|██████████| 100/100 [00:02<00:00, 43.84it/s, epoch=18/50, avg_epoch_loss=6.18]\n",
      "100%|██████████| 100/100 [00:02<00:00, 40.83it/s, epoch=19/50, avg_epoch_loss=6.14]\n",
      "100%|██████████| 100/100 [00:02<00:00, 44.53it/s, epoch=20/50, avg_epoch_loss=6.13]\n",
      "100%|██████████| 100/100 [00:02<00:00, 39.21it/s, epoch=21/50, avg_epoch_loss=6.12]\n",
      "100%|██████████| 100/100 [00:02<00:00, 45.15it/s, epoch=22/50, avg_epoch_loss=6.07]\n",
      "100%|██████████| 100/100 [00:02<00:00, 42.03it/s, epoch=23/50, avg_epoch_loss=6.08]\n",
      "100%|██████████| 100/100 [00:02<00:00, 43.54it/s, epoch=24/50, avg_epoch_loss=6.06]\n",
      "100%|██████████| 100/100 [00:02<00:00, 44.51it/s, epoch=25/50, avg_epoch_loss=6.09]\n",
      "100%|██████████| 100/100 [00:02<00:00, 39.07it/s, epoch=26/50, avg_epoch_loss=6.09]\n",
      "100%|██████████| 100/100 [00:02<00:00, 42.72it/s, epoch=27/50, avg_epoch_loss=6.08]\n",
      "100%|██████████| 100/100 [00:02<00:00, 40.98it/s, epoch=28/50, avg_epoch_loss=6.03]\n",
      "100%|██████████| 100/100 [00:02<00:00, 42.64it/s, epoch=29/50, avg_epoch_loss=6.01]\n",
      "100%|██████████| 100/100 [00:02<00:00, 42.32it/s, epoch=30/50, avg_epoch_loss=6.06]\n",
      "100%|██████████| 100/100 [00:02<00:00, 40.98it/s, epoch=31/50, avg_epoch_loss=6.04]\n",
      "100%|██████████| 100/100 [00:02<00:00, 41.63it/s, epoch=32/50, avg_epoch_loss=6.01]\n",
      "100%|██████████| 100/100 [00:02<00:00, 39.96it/s, epoch=33/50, avg_epoch_loss=5.97]\n",
      "100%|██████████| 100/100 [00:02<00:00, 38.85it/s, epoch=34/50, avg_epoch_loss=6.02]\n",
      "100%|██████████| 100/100 [00:02<00:00, 42.53it/s, epoch=35/50, avg_epoch_loss=6]\n",
      "100%|██████████| 100/100 [00:02<00:00, 40.06it/s, epoch=36/50, avg_epoch_loss=6.04]\n",
      "100%|██████████| 100/100 [00:02<00:00, 40.44it/s, epoch=37/50, avg_epoch_loss=5.97]\n",
      "100%|██████████| 100/100 [00:02<00:00, 40.91it/s, epoch=38/50, avg_epoch_loss=5.96]\n",
      "100%|██████████| 100/100 [00:02<00:00, 43.88it/s, epoch=39/50, avg_epoch_loss=5.95]\n",
      "100%|██████████| 100/100 [00:02<00:00, 42.68it/s, epoch=40/50, avg_epoch_loss=5.93]\n",
      "100%|██████████| 100/100 [00:02<00:00, 42.42it/s, epoch=41/50, avg_epoch_loss=5.93]\n",
      "100%|██████████| 100/100 [00:02<00:00, 43.51it/s, epoch=42/50, avg_epoch_loss=5.94]\n",
      "100%|██████████| 100/100 [00:02<00:00, 42.47it/s, epoch=43/50, avg_epoch_loss=5.91]\n",
      "100%|██████████| 100/100 [00:02<00:00, 38.09it/s, epoch=44/50, avg_epoch_loss=5.9]\n",
      "100%|██████████| 100/100 [00:02<00:00, 39.93it/s, epoch=45/50, avg_epoch_loss=5.92]\n",
      "100%|██████████| 100/100 [00:02<00:00, 38.79it/s, epoch=46/50, avg_epoch_loss=5.9]\n",
      "100%|██████████| 100/100 [00:02<00:00, 37.28it/s, epoch=47/50, avg_epoch_loss=5.9]\n",
      "100%|██████████| 100/100 [00:02<00:00, 39.13it/s, epoch=48/50, avg_epoch_loss=5.9]\n",
      "100%|██████████| 100/100 [00:02<00:00, 43.06it/s, epoch=49/50, avg_epoch_loss=5.89]\n",
      "100%|██████████| 100/100 [00:02<00:00, 43.14it/s, epoch=50/50, avg_epoch_loss=5.86]\n",
      "WARNING:root:Serializing RepresentableBlockPredictor instances does not save the prediction network structure in a backwards-compatible manner. Be careful not to use this method in production.\n"
     ]
    }
   ],
   "source": [
    "try:\n",
    "    deepARPredictor = Predictor.deserialize(Path(\"./models/DeepARBasic/\"))\n",
    "    print(\"Loaded from memory\")\n",
    "except:\n",
    "    deepARPredictor = DeepARBasic.train(train_ds)\n",
    "    deepARPredictor.serialize(Path(\"./models/DeepARBasic/\"))"
   ]
  },
  {
   "cell_type": "code",
   "execution_count": 71,
   "id": "1612c89d",
   "metadata": {},
   "outputs": [],
   "source": [
    "# Eval on Test Data\n",
    "forecast_it, ts_it = make_evaluation_predictions(\n",
    "    dataset=test_ds,  # test dataset\n",
    "    predictor=deepARPredictor,  # predictor\n",
    "    num_samples=100,  # number of sample paths we want for evaluation\n",
    ")\n",
    "deepAR_forecasts = list(forecast_it)\n",
    "deepAR_tss = list(ts_it)"
   ]
  },
  {
   "cell_type": "code",
   "execution_count": 89,
   "id": "66f2bae9",
   "metadata": {},
   "outputs": [
    {
     "name": "stdout",
     "output_type": "stream",
     "text": [
      "1\n",
      "Number of sample paths: 100\n",
      "Dimension of samples: (100, 5)\n",
      "Start date of the forecast window: 2021-06-17 00:00:00\n",
      "Frequency of the time series: 1B\n",
      "Mean of the future window:\n",
      " [15836.247 15818.23  15765.775 15731.463 15643.56 ]\n",
      "0.5-quantile (median) of the future window:\n",
      " [15847.603 15834.945 15777.439 15730.363 15651.441]\n"
     ]
    }
   ],
   "source": [
    "print(len(deepAR_forecasts))\n",
    "# first entry of the forecast list\n",
    "forecast_entry = deepAR_forecasts[0]\n",
    "ts_entry = deepAR_tss[0]\n",
    "print(f\"Number of sample paths: {forecast_entry.num_samples}\")\n",
    "print(f\"Dimension of samples: {forecast_entry.samples.shape}\")\n",
    "print(f\"Start date of the forecast window: {forecast_entry.start_date}\")\n",
    "print(f\"Frequency of the time series: {forecast_entry.freq}\")\n",
    "print(f\"Mean of the future window:\\n {forecast_entry.mean}\")\n",
    "print(f\"0.5-quantile (median) of the future window:\\n {forecast_entry.quantile(0.5)}\")"
   ]
  },
  {
   "cell_type": "code",
   "execution_count": 90,
   "id": "90181271",
   "metadata": {},
   "outputs": [
    {
     "data": {
      "image/png": "[encoded data removed]",
      "text/plain": [
       "<Figure size 1080x504 with 1 Axes>"
      ]
     },
     "metadata": {
      "needs_background": "light"
     },
     "output_type": "display_data"
    }
   ],
   "source": [
    "def plot_prob_forecasts(ts_entry, forecast_entry):\n",
    "    plot_length = nifty_data_metadata['num_steps']\n",
    "    prediction_intervals = (50.0, 90.0)\n",
    "    legend = [\"observations\", \"median prediction\"] + [f\"{k}% prediction interval\" for k in prediction_intervals][::-1]\n",
    "\n",
    "    fig, ax = plt.subplots(1, 1, figsize=(15, 7))\n",
    "    ts_entry[-plot_length:].plot(ax=ax)  # plot the time series\n",
    "    forecast_entry.plot(prediction_intervals=prediction_intervals, color='g')\n",
    "    plt.grid(which=\"both\")\n",
    "    plt.legend(legend, loc=\"upper left\")\n",
    "    plt.show()\n",
    "plot_prob_forecasts(ts_entry, forecast_entry)"
   ]
  },
  {
   "cell_type": "code",
   "execution_count": 74,
   "id": "b18cbea5",
   "metadata": {},
   "outputs": [
    {
     "name": "stderr",
     "output_type": "stream",
     "text": [
      "Running evaluation: 100%|██████████| 1/1 [00:00<00:00, 122.45it/s]\n"
     ]
    }
   ],
   "source": [
    "from gluonts.evaluation import Evaluator\n",
    "evaluator = MyEvaluator(quantiles=[0.1, 0.5, 0.9])\n",
    "agg_metrics, item_metrics = evaluator(iter(deepAR_tss), iter(deepAR_forecasts), num_series=len(test_ds))"
   ]
  },
  {
   "cell_type": "code",
   "execution_count": 75,
   "id": "3006bbb4",
   "metadata": {},
   "outputs": [
    {
     "name": "stdout",
     "output_type": "stream",
     "text": [
      "{\n",
      "    \"MSE\": 4991.0875,\n",
      "    \"abs_error\": 339.3818359375,\n",
      "    \"abs_target_sum\": 78821.796875,\n",
      "    \"abs_target_mean\": 15764.359375,\n",
      "    \"seasonal_error\": 255.02357509784736,\n",
      "    \"MASE\": 0.2661572255092778,\n",
      "    \"MAPE\": 0.004308439046144486,\n",
      "    \"sMAPE\": 0.004309165477752686,\n",
      "    \"MSIS\": 3.5509071610930603,\n",
      "    \"QuantileLoss[0.1]\": 256.65,\n",
      "    \"Coverage[0.1]\": 0.0,\n",
      "    \"QuantileLoss[0.5]\": 339.3818359375,\n",
      "    \"Coverage[0.5]\": 0.6,\n",
      "    \"QuantileLoss[0.9]\": 248.19765624999994,\n",
      "    \"Coverage[0.9]\": 1.0,\n",
      "    \"RMSE\": 70.64762911803905,\n",
      "    \"NRMSE\": 0.0044814779616148565,\n",
      "    \"ND\": 0.004305685094640898,\n",
      "    \"wQuantileLoss[0.1]\": 0.0032560790311214277,\n",
      "    \"wQuantileLoss[0.5]\": 0.004305685094640898,\n",
      "    \"wQuantileLoss[0.9]\": 0.0031488454474541557,\n",
      "    \"mean_absolute_QuantileLoss\": 281.40983072916663,\n",
      "    \"mean_wQuantileLoss\": 0.0035702031910721604,\n",
      "    \"MAE_Coverage\": 0.09999999999999998,\n",
      "    \"OWA\": NaN,\n",
      "    \"POCID\": 75.0,\n",
      "    \"Theil's U\": 1.7275017499923706\n",
      "}\n"
     ]
    }
   ],
   "source": [
    "print(json.dumps(agg_metrics, indent=4))"
   ]
  },
  {
   "cell_type": "code",
   "execution_count": 76,
   "id": "116cac86",
   "metadata": {},
   "outputs": [
    {
     "data": {
      "text/html": [
       "<div>\n",
       "<style scoped>\n",
       "    .dataframe tbody tr th:only-of-type {\n",
       "        vertical-align: middle;\n",
       "    }\n",
       "\n",
       "    .dataframe tbody tr th {\n",
       "        vertical-align: top;\n",
       "    }\n",
       "\n",
       "    .dataframe thead th {\n",
       "        text-align: right;\n",
       "    }\n",
       "</style>\n",
       "<table border=\"1\" class=\"dataframe\">\n",
       "  <thead>\n",
       "    <tr style=\"text-align: right;\">\n",
       "      <th></th>\n",
       "      <th>item_id</th>\n",
       "      <th>MSE</th>\n",
       "      <th>abs_error</th>\n",
       "      <th>abs_target_sum</th>\n",
       "      <th>abs_target_mean</th>\n",
       "      <th>seasonal_error</th>\n",
       "      <th>MASE</th>\n",
       "      <th>MAPE</th>\n",
       "      <th>sMAPE</th>\n",
       "      <th>MSIS</th>\n",
       "      <th>QuantileLoss[0.1]</th>\n",
       "      <th>Coverage[0.1]</th>\n",
       "      <th>QuantileLoss[0.5]</th>\n",
       "      <th>Coverage[0.5]</th>\n",
       "      <th>QuantileLoss[0.9]</th>\n",
       "      <th>Coverage[0.9]</th>\n",
       "      <th>POCID</th>\n",
       "      <th>Theil's U</th>\n",
       "    </tr>\n",
       "  </thead>\n",
       "  <tbody>\n",
       "    <tr>\n",
       "      <th>0</th>\n",
       "      <td>NaN</td>\n",
       "      <td>4991.0875</td>\n",
       "      <td>339.381836</td>\n",
       "      <td>78821.796875</td>\n",
       "      <td>15764.359375</td>\n",
       "      <td>255.023575</td>\n",
       "      <td>0.266157</td>\n",
       "      <td>0.004308</td>\n",
       "      <td>0.004309</td>\n",
       "      <td>3.550907</td>\n",
       "      <td>256.65</td>\n",
       "      <td>0.0</td>\n",
       "      <td>339.381836</td>\n",
       "      <td>0.6</td>\n",
       "      <td>248.197656</td>\n",
       "      <td>1.0</td>\n",
       "      <td>75.0</td>\n",
       "      <td>1.727502</td>\n",
       "    </tr>\n",
       "  </tbody>\n",
       "</table>\n",
       "</div>"
      ],
      "text/plain": [
       "   item_id        MSE   abs_error  abs_target_sum  abs_target_mean  \\\n",
       "0      NaN  4991.0875  339.381836    78821.796875     15764.359375   \n",
       "\n",
       "   seasonal_error      MASE      MAPE     sMAPE      MSIS  QuantileLoss[0.1]  \\\n",
       "0      255.023575  0.266157  0.004308  0.004309  3.550907             256.65   \n",
       "\n",
       "   Coverage[0.1]  QuantileLoss[0.5]  Coverage[0.5]  QuantileLoss[0.9]  \\\n",
       "0            0.0         339.381836            0.6         248.197656   \n",
       "\n",
       "   Coverage[0.9]  POCID  Theil's U  \n",
       "0            1.0   75.0   1.727502  "
      ]
     },
     "execution_count": 76,
     "metadata": {},
     "output_type": "execute_result"
    }
   ],
   "source": [
    "item_metrics.head()"
   ]
  },
  {
   "cell_type": "code",
   "execution_count": 77,
   "id": "403e7957",
   "metadata": {},
   "outputs": [
    {
     "data": {
      "image/png": "[encoded data removed]",
      "text/plain": [
       "<Figure size 432x288 with 1 Axes>"
      ]
     },
     "metadata": {
      "needs_background": "light"
     },
     "output_type": "display_data"
    }
   ],
   "source": [
    "item_metrics.plot(x='MSIS', y='MASE', kind='scatter')\n",
    "plt.grid(which=\"both\")\n",
    "plt.show()"
   ]
  },
  {
   "cell_type": "code",
   "execution_count": null,
   "id": "34e10ff9",
   "metadata": {},
   "outputs": [],
   "source": []
  },
  {
   "cell_type": "code",
   "execution_count": null,
   "id": "7ae95bdf",
   "metadata": {},
   "outputs": [],
   "source": []
  },
  {
   "cell_type": "code",
   "execution_count": null,
   "id": "34613062",
   "metadata": {},
   "outputs": [],
   "source": []
  },
  {
   "cell_type": "markdown",
   "id": "3bba42ef",
   "metadata": {},
   "source": [
    "# Deep State Space Model"
   ]
  },
  {
   "cell_type": "code",
   "execution_count": 78,
   "id": "6b1e7921",
   "metadata": {},
   "outputs": [],
   "source": [
    "from gluonts.model.deepstate import DeepStateEstimator\n",
    "DeepStateBasic = DeepStateEstimator(freq=nifty_data_metadata['freq'],\n",
    "                                   prediction_length=nifty_data_metadata['prediction_length'],\n",
    "                                   past_length=nifty_data_metadata['context_length'], add_trend=True,\n",
    "                                   use_feat_static_cat=False, cardinality=[],\n",
    "                                   trainer=Trainer(ctx=ctx, epochs=50, learning_rate=1e-3,\n",
    "                                               hybridize=True, num_batches_per_epoch=100))"
   ]
  },
  {
   "cell_type": "code",
   "execution_count": 79,
   "id": "608f1a84",
   "metadata": {},
   "outputs": [
    {
     "name": "stderr",
     "output_type": "stream",
     "text": [
      "100%|██████████| 100/100 [00:01<00:00, 58.10it/s, epoch=1/50, avg_epoch_loss=10]\n",
      "100%|██████████| 100/100 [00:01<00:00, 56.91it/s, epoch=2/50, avg_epoch_loss=7.66]\n",
      "100%|██████████| 100/100 [00:01<00:00, 56.58it/s, epoch=3/50, avg_epoch_loss=6.98]\n",
      "100%|██████████| 100/100 [00:01<00:00, 55.94it/s, epoch=4/50, avg_epoch_loss=6.73]\n",
      "100%|██████████| 100/100 [00:01<00:00, 61.46it/s, epoch=5/50, avg_epoch_loss=6.58]\n",
      "100%|██████████| 100/100 [00:01<00:00, 63.53it/s, epoch=6/50, avg_epoch_loss=6.61]\n",
      "100%|██████████| 100/100 [00:01<00:00, 54.94it/s, epoch=7/50, avg_epoch_loss=6.47]\n",
      "100%|██████████| 100/100 [00:01<00:00, 57.03it/s, epoch=8/50, avg_epoch_loss=6.45]\n",
      "100%|██████████| 100/100 [00:01<00:00, 59.84it/s, epoch=9/50, avg_epoch_loss=6.37]\n",
      "100%|██████████| 100/100 [00:01<00:00, 56.07it/s, epoch=10/50, avg_epoch_loss=6.27]\n",
      "100%|██████████| 100/100 [00:01<00:00, 60.84it/s, epoch=11/50, avg_epoch_loss=6.29]\n",
      "100%|██████████| 100/100 [00:01<00:00, 60.24it/s, epoch=12/50, avg_epoch_loss=6.22]\n",
      "100%|██████████| 100/100 [00:01<00:00, 60.22it/s, epoch=13/50, avg_epoch_loss=6.2]\n",
      "100%|██████████| 100/100 [00:01<00:00, 61.27it/s, epoch=14/50, avg_epoch_loss=6.11]\n",
      "100%|██████████| 100/100 [00:01<00:00, 61.00it/s, epoch=15/50, avg_epoch_loss=6.23]\n",
      "100%|██████████| 100/100 [00:01<00:00, 55.94it/s, epoch=16/50, avg_epoch_loss=6.13]\n",
      "100%|██████████| 100/100 [00:01<00:00, 55.31it/s, epoch=17/50, avg_epoch_loss=6.03]\n",
      "100%|██████████| 100/100 [00:01<00:00, 57.67it/s, epoch=18/50, avg_epoch_loss=6.27]\n",
      "100%|██████████| 100/100 [00:01<00:00, 54.05it/s, epoch=19/50, avg_epoch_loss=6.19]\n",
      "100%|██████████| 100/100 [00:01<00:00, 58.03it/s, epoch=20/50, avg_epoch_loss=6.1]\n",
      "100%|██████████| 100/100 [00:01<00:00, 57.38it/s, epoch=21/50, avg_epoch_loss=6.15]\n",
      "100%|██████████| 100/100 [00:01<00:00, 57.47it/s, epoch=22/50, avg_epoch_loss=6.04]\n",
      "100%|██████████| 100/100 [00:01<00:00, 51.08it/s, epoch=23/50, avg_epoch_loss=5.96]\n",
      "100%|██████████| 100/100 [00:01<00:00, 54.92it/s, epoch=24/50, avg_epoch_loss=5.79]\n",
      "100%|██████████| 100/100 [00:01<00:00, 54.09it/s, epoch=25/50, avg_epoch_loss=6.19]\n",
      "100%|██████████| 100/100 [00:01<00:00, 50.15it/s, epoch=26/50, avg_epoch_loss=5.97]\n",
      "100%|██████████| 100/100 [00:01<00:00, 57.20it/s, epoch=27/50, avg_epoch_loss=5.97]\n",
      "100%|██████████| 100/100 [00:01<00:00, 53.79it/s, epoch=28/50, avg_epoch_loss=5.99]\n",
      "100%|██████████| 100/100 [00:01<00:00, 54.21it/s, epoch=29/50, avg_epoch_loss=5.94]\n",
      "100%|██████████| 100/100 [00:01<00:00, 56.52it/s, epoch=30/50, avg_epoch_loss=5.86]\n",
      "100%|██████████| 100/100 [00:01<00:00, 59.38it/s, epoch=31/50, avg_epoch_loss=6.03]\n",
      "100%|██████████| 100/100 [00:01<00:00, 58.91it/s, epoch=32/50, avg_epoch_loss=5.75]\n",
      "100%|██████████| 100/100 [00:01<00:00, 59.33it/s, epoch=33/50, avg_epoch_loss=5.82]\n",
      "100%|██████████| 100/100 [00:01<00:00, 57.48it/s, epoch=34/50, avg_epoch_loss=5.77]\n",
      "100%|██████████| 100/100 [00:01<00:00, 56.55it/s, epoch=35/50, avg_epoch_loss=5.92]\n",
      "100%|██████████| 100/100 [00:01<00:00, 56.25it/s, epoch=36/50, avg_epoch_loss=5.76]\n",
      "100%|██████████| 100/100 [00:01<00:00, 58.53it/s, epoch=37/50, avg_epoch_loss=5.9]\n",
      "100%|██████████| 100/100 [00:01<00:00, 63.54it/s, epoch=38/50, avg_epoch_loss=5.84]\n",
      "100%|██████████| 100/100 [00:01<00:00, 56.83it/s, epoch=39/50, avg_epoch_loss=5.83]\n",
      "100%|██████████| 100/100 [00:01<00:00, 63.16it/s, epoch=40/50, avg_epoch_loss=5.8]\n",
      "100%|██████████| 100/100 [00:01<00:00, 61.02it/s, epoch=41/50, avg_epoch_loss=5.79]\n",
      "100%|██████████| 100/100 [00:01<00:00, 53.61it/s, epoch=42/50, avg_epoch_loss=5.76]\n",
      "100%|██████████| 100/100 [00:01<00:00, 58.08it/s, epoch=43/50, avg_epoch_loss=5.5]\n",
      "100%|██████████| 100/100 [00:02<00:00, 49.38it/s, epoch=44/50, avg_epoch_loss=5.46]\n",
      "100%|██████████| 100/100 [00:01<00:00, 57.91it/s, epoch=45/50, avg_epoch_loss=5.43]\n",
      "100%|██████████| 100/100 [00:01<00:00, 64.19it/s, epoch=46/50, avg_epoch_loss=5.39]\n",
      "100%|██████████| 100/100 [00:01<00:00, 62.63it/s, epoch=47/50, avg_epoch_loss=5.36]\n",
      "100%|██████████| 100/100 [00:01<00:00, 60.16it/s, epoch=48/50, avg_epoch_loss=5.39]\n",
      "100%|██████████| 100/100 [00:01<00:00, 63.27it/s, epoch=49/50, avg_epoch_loss=5.3]\n",
      "100%|██████████| 100/100 [00:01<00:00, 61.91it/s, epoch=50/50, avg_epoch_loss=5.32]\n",
      "WARNING:root:Serializing RepresentableBlockPredictor instances does not save the prediction network structure in a backwards-compatible manner. Be careful not to use this method in production.\n"
     ]
    }
   ],
   "source": [
    "try:\n",
    "    deepStatePredictor = Predictor.deserialize(Path(\"./models/DeepStateBasic/\"))\n",
    "    print(\"Loaded from memory\")\n",
    "except:\n",
    "    deepStatePredictor = DeepStateBasic.train(train_ds)\n",
    "    deepStatePredictor.serialize(Path(\"./models/DeepStateBasic/\"))"
   ]
  },
  {
   "cell_type": "code",
   "execution_count": 80,
   "id": "0b3f62e0",
   "metadata": {},
   "outputs": [],
   "source": [
    "forecast_it, ts_it = make_evaluation_predictions(\n",
    "    dataset=test_ds,  # test dataset\n",
    "    predictor=deepStatePredictor,  # predictor\n",
    "    num_samples=100,  # number of sample paths we want for evaluation\n",
    ")\n",
    "deepState_forecasts = list(forecast_it)\n",
    "deepState_tss = list(ts_it)"
   ]
  },
  {
   "cell_type": "code",
   "execution_count": 91,
   "id": "2acf2051",
   "metadata": {},
   "outputs": [
    {
     "name": "stdout",
     "output_type": "stream",
     "text": [
      "1\n",
      "Number of sample paths: 100\n",
      "Dimension of samples: (100, 5)\n",
      "Start date of the forecast window: 2021-06-17 00:00:00\n",
      "Frequency of the time series: 1B\n",
      "Mean of the future window:\n",
      " [16113.762 11150.838 10772.58  10956.968 10989.593]\n",
      "0.5-quantile (median) of the future window:\n",
      " [16105.28   11139.886  10769.1045 10950.82   10983.49  ]\n"
     ]
    }
   ],
   "source": [
    "print(len(deepState_forecasts))\n",
    "# first entry of the forecast list\n",
    "forecast_entry = deepState_forecasts[0]\n",
    "ts_entry = deepState_tss[0]\n",
    "print(f\"Number of sample paths: {forecast_entry.num_samples}\")\n",
    "print(f\"Dimension of samples: {forecast_entry.samples.shape}\")\n",
    "print(f\"Start date of the forecast window: {forecast_entry.start_date}\")\n",
    "print(f\"Frequency of the time series: {forecast_entry.freq}\")\n",
    "print(f\"Mean of the future window:\\n {forecast_entry.mean}\")\n",
    "print(f\"0.5-quantile (median) of the future window:\\n {forecast_entry.quantile(0.5)}\")"
   ]
  },
  {
   "cell_type": "code",
   "execution_count": 92,
   "id": "ca8e6728",
   "metadata": {},
   "outputs": [
    {
     "data": {
      "image/png": "[encoded data removed]",
      "text/plain": [
       "<Figure size 1080x504 with 1 Axes>"
      ]
     },
     "metadata": {
      "needs_background": "light"
     },
     "output_type": "display_data"
    }
   ],
   "source": [
    "def plot_prob_forecasts(ts_entry, forecast_entry):\n",
    "    plot_length = nifty_data_metadata['num_steps']\n",
    "    prediction_intervals = (50.0, 90.0)\n",
    "    legend = [\"observations\", \"median prediction\"] + [f\"{k}% prediction interval\" for k in prediction_intervals][::-1]\n",
    "\n",
    "    fig, ax = plt.subplots(1, 1, figsize=(15, 7))\n",
    "    ts_entry[-plot_length:].plot(ax=ax)  # plot the time series\n",
    "    forecast_entry.plot(prediction_intervals=prediction_intervals, color='g')\n",
    "    plt.grid(which=\"both\")\n",
    "    plt.legend(legend, loc=\"upper left\")\n",
    "    plt.show()\n",
    "plot_prob_forecasts(ts_entry, forecast_entry)"
   ]
  },
  {
   "cell_type": "code",
   "execution_count": 83,
   "id": "5362ddd7",
   "metadata": {},
   "outputs": [
    {
     "name": "stderr",
     "output_type": "stream",
     "text": [
      "Running evaluation: 100%|██████████| 1/1 [00:00<?, ?it/s]\n"
     ]
    }
   ],
   "source": [
    "from gluonts.evaluation import MultivariateEvaluator\n",
    "evaluator = MyEvaluator(quantiles=[0.1, 0.5, 0.9])\n",
    "agg_metrics, item_metrics = evaluator(iter(deepState_tss), iter(deepState_forecasts), num_series=len(grouped_test_ds))"
   ]
  },
  {
   "cell_type": "code",
   "execution_count": 84,
   "id": "6a2f7fb4",
   "metadata": {},
   "outputs": [
    {
     "name": "stdout",
     "output_type": "stream",
     "text": [
      "{\n",
      "    \"MSE\": 18321625.6,\n",
      "    \"abs_error\": 19434.87890625,\n",
      "    \"abs_target_sum\": 78821.796875,\n",
      "    \"abs_target_mean\": 15764.359375,\n",
      "    \"seasonal_error\": 255.02357509784736,\n",
      "    \"MASE\": 15.24163316963401,\n",
      "    \"MAPE\": 0.24678988456726075,\n",
      "    \"sMAPE\": 0.29040720462799074,\n",
      "    \"MSIS\": 582.1790198927112,\n",
      "    \"QuantileLoss[0.1]\": 4236.385351562501,\n",
      "    \"Coverage[0.1]\": 0.2,\n",
      "    \"QuantileLoss[0.5]\": 19434.8798828125,\n",
      "    \"Coverage[0.5]\": 0.2,\n",
      "    \"QuantileLoss[0.9]\": 33741.5013671875,\n",
      "    \"Coverage[0.9]\": 0.2,\n",
      "    \"RMSE\": 4280.37680584315,\n",
      "    \"NRMSE\": 0.27152240722393134,\n",
      "    \"ND\": 0.246567316107636,\n",
      "    \"wQuantileLoss[0.1]\": 0.053746368638116646,\n",
      "    \"wQuantileLoss[0.5]\": 0.24656732849713406,\n",
      "    \"wQuantileLoss[0.9]\": 0.4280732323407528,\n",
      "    \"mean_absolute_QuantileLoss\": 19137.5888671875,\n",
      "    \"mean_wQuantileLoss\": 0.24279564315866783,\n",
      "    \"MAE_Coverage\": 0.3666666666666667,\n",
      "    \"OWA\": NaN,\n",
      "    \"POCID\": 75.0,\n",
      "    \"Theil's U\": 5715.0546875\n",
      "}\n"
     ]
    }
   ],
   "source": [
    "print(json.dumps(agg_metrics, indent=4))"
   ]
  },
  {
   "cell_type": "code",
   "execution_count": 85,
   "id": "ae58aed1",
   "metadata": {},
   "outputs": [
    {
     "name": "stdout",
     "output_type": "stream",
     "text": [
      "18321625.6 4280.37680584315 15.24163316963401 0.24678988456726075\n"
     ]
    }
   ],
   "source": [
    "print(agg_metrics[\"MSE\"], agg_metrics[\"RMSE\"], agg_metrics[\"MASE\"], agg_metrics[\"MAPE\"])"
   ]
  },
  {
   "cell_type": "code",
   "execution_count": null,
   "id": "e767b906",
   "metadata": {},
   "outputs": [],
   "source": []
  },
  {
   "cell_type": "code",
   "execution_count": null,
   "id": "3a95011c",
   "metadata": {},
   "outputs": [],
   "source": []
  },
  {
   "cell_type": "markdown",
   "id": "220131dc",
   "metadata": {},
   "source": [
    "# LSTNet"
   ]
  },
  {
   "cell_type": "code",
   "execution_count": 86,
   "id": "b6123244",
   "metadata": {},
   "outputs": [
    {
     "data": {
      "text/plain": [
       "{'num_series': 1,\n",
       " 'num_steps': 10,\n",
       " 'context_length': 5,\n",
       " 'prediction_length': 5,\n",
       " 'freq': '1B',\n",
       " 'train_len': 2100,\n",
       " 'train_num_of_series': 1,\n",
       " 'test_num_of_series': 1,\n",
       " 'test_len': 521}"
      ]
     },
     "execution_count": 86,
     "metadata": {},
     "output_type": "execute_result"
    }
   ],
   "source": [
    "nifty_data_metadata"
   ]
  },
  {
   "cell_type": "code",
   "execution_count": 93,
   "id": "82942c81",
   "metadata": {},
   "outputs": [],
   "source": [
    "from gluonts.model.lstnet import LSTNetEstimator\n",
    "LSTNetBasic = LSTNetEstimator(\n",
    "        skip_size=5, ar_window=5, num_series=nifty_data_metadata['num_series'],\n",
    "        rnn_num_layers=1, skip_rnn_num_layers=20,\n",
    "        channels=5*5*5, kernel_size=1, dropout_rate=0.2, output_activation='sigmoid',\n",
    "        freq=nifty_data_metadata['freq'], prediction_length=nifty_data_metadata['prediction_length'],\n",
    "        context_length=nifty_data_metadata['context_length'],\n",
    "        trainer=Trainer(ctx=ctx, epochs=50, hybridize=True,\n",
    "                        learning_rate=1e-3, num_batches_per_epoch=100)\n",
    ")"
   ]
  },
  {
   "cell_type": "code",
   "execution_count": 88,
   "id": "46058ee4",
   "metadata": {},
   "outputs": [
    {
     "name": "stderr",
     "output_type": "stream",
     "text": [
      "100%|██████████| 100/100 [00:02<00:00, 44.07it/s, epoch=1/50, avg_epoch_loss=319]\n",
      "100%|██████████| 100/100 [00:02<00:00, 46.82it/s, epoch=2/50, avg_epoch_loss=118]\n",
      "100%|██████████| 100/100 [00:02<00:00, 47.26it/s, epoch=3/50, avg_epoch_loss=116]\n",
      "100%|██████████| 100/100 [00:02<00:00, 48.23it/s, epoch=4/50, avg_epoch_loss=120]\n",
      "100%|██████████| 100/100 [00:02<00:00, 46.65it/s, epoch=5/50, avg_epoch_loss=122]\n",
      "100%|██████████| 100/100 [00:02<00:00, 47.31it/s, epoch=6/50, avg_epoch_loss=119]\n",
      "100%|██████████| 100/100 [00:02<00:00, 46.12it/s, epoch=7/50, avg_epoch_loss=118]\n",
      "100%|██████████| 100/100 [00:02<00:00, 46.10it/s, epoch=8/50, avg_epoch_loss=118]\n",
      "100%|██████████| 100/100 [00:02<00:00, 46.82it/s, epoch=9/50, avg_epoch_loss=118]\n",
      "100%|██████████| 100/100 [00:02<00:00, 44.11it/s, epoch=10/50, avg_epoch_loss=118]\n",
      "100%|██████████| 100/100 [00:02<00:00, 47.77it/s, epoch=11/50, avg_epoch_loss=115]\n",
      "100%|██████████| 100/100 [00:02<00:00, 47.65it/s, epoch=12/50, avg_epoch_loss=120]\n",
      "100%|██████████| 100/100 [00:02<00:00, 45.60it/s, epoch=13/50, avg_epoch_loss=118]\n",
      "100%|██████████| 100/100 [00:02<00:00, 48.26it/s, epoch=14/50, avg_epoch_loss=117]\n",
      "100%|██████████| 100/100 [00:02<00:00, 48.56it/s, epoch=15/50, avg_epoch_loss=117]\n",
      "100%|██████████| 100/100 [00:02<00:00, 47.31it/s, epoch=16/50, avg_epoch_loss=119]\n",
      "100%|██████████| 100/100 [00:02<00:00, 46.48it/s, epoch=17/50, avg_epoch_loss=120]\n",
      "100%|██████████| 100/100 [00:02<00:00, 47.88it/s, epoch=18/50, avg_epoch_loss=121]\n",
      "100%|██████████| 100/100 [00:02<00:00, 44.83it/s, epoch=19/50, avg_epoch_loss=116]\n",
      "100%|██████████| 100/100 [00:02<00:00, 47.86it/s, epoch=20/50, avg_epoch_loss=120]\n",
      "100%|██████████| 100/100 [00:02<00:00, 46.14it/s, epoch=21/50, avg_epoch_loss=119]\n",
      "100%|██████████| 100/100 [00:02<00:00, 48.75it/s, epoch=22/50, avg_epoch_loss=118]\n",
      "100%|██████████| 100/100 [00:02<00:00, 46.48it/s, epoch=23/50, avg_epoch_loss=120]\n",
      "100%|██████████| 100/100 [00:02<00:00, 47.88it/s, epoch=24/50, avg_epoch_loss=119]\n",
      "100%|██████████| 100/100 [00:02<00:00, 46.34it/s, epoch=25/50, avg_epoch_loss=119]\n",
      "100%|██████████| 100/100 [00:02<00:00, 47.87it/s, epoch=26/50, avg_epoch_loss=117]\n",
      "100%|██████████| 100/100 [00:02<00:00, 48.94it/s, epoch=27/50, avg_epoch_loss=118]\n",
      "100%|██████████| 100/100 [00:02<00:00, 48.23it/s, epoch=28/50, avg_epoch_loss=118]\n",
      "100%|██████████| 100/100 [00:02<00:00, 47.13it/s, epoch=29/50, avg_epoch_loss=119]\n",
      "100%|██████████| 100/100 [00:02<00:00, 47.88it/s, epoch=30/50, avg_epoch_loss=120]\n",
      "100%|██████████| 100/100 [00:02<00:00, 47.18it/s, epoch=31/50, avg_epoch_loss=119]\n",
      "100%|██████████| 100/100 [00:02<00:00, 45.33it/s, epoch=32/50, avg_epoch_loss=119]\n",
      "100%|██████████| 100/100 [00:02<00:00, 46.72it/s, epoch=33/50, avg_epoch_loss=121]\n",
      "100%|██████████| 100/100 [00:02<00:00, 47.79it/s, epoch=34/50, avg_epoch_loss=117]\n",
      "100%|██████████| 100/100 [00:02<00:00, 48.60it/s, epoch=35/50, avg_epoch_loss=121]\n",
      "100%|██████████| 100/100 [00:02<00:00, 47.31it/s, epoch=36/50, avg_epoch_loss=121]\n",
      "100%|██████████| 100/100 [00:02<00:00, 45.27it/s, epoch=37/50, avg_epoch_loss=120]\n",
      "100%|██████████| 100/100 [00:02<00:00, 43.22it/s, epoch=38/50, avg_epoch_loss=117]\n",
      "100%|██████████| 100/100 [00:02<00:00, 43.98it/s, epoch=39/50, avg_epoch_loss=121]\n",
      "100%|██████████| 100/100 [00:02<00:00, 42.97it/s, epoch=40/50, avg_epoch_loss=119]\n",
      "100%|██████████| 100/100 [00:02<00:00, 46.70it/s, epoch=41/50, avg_epoch_loss=121]\n",
      "100%|██████████| 100/100 [00:02<00:00, 48.35it/s, epoch=42/50, avg_epoch_loss=119]\n",
      "100%|██████████| 100/100 [00:02<00:00, 48.61it/s, epoch=43/50, avg_epoch_loss=119]\n",
      "100%|██████████| 100/100 [00:02<00:00, 48.23it/s, epoch=44/50, avg_epoch_loss=119]\n",
      "100%|██████████| 100/100 [00:02<00:00, 47.51it/s, epoch=45/50, avg_epoch_loss=121]\n",
      "100%|██████████| 100/100 [00:01<00:00, 51.02it/s, epoch=46/50, avg_epoch_loss=120]\n",
      "100%|██████████| 100/100 [00:02<00:00, 47.52it/s, epoch=47/50, avg_epoch_loss=120]\n",
      "100%|██████████| 100/100 [00:02<00:00, 49.53it/s, epoch=48/50, avg_epoch_loss=118]\n",
      "100%|██████████| 100/100 [00:01<00:00, 50.11it/s, epoch=49/50, avg_epoch_loss=119]\n",
      "100%|██████████| 100/100 [00:02<00:00, 48.61it/s, epoch=50/50, avg_epoch_loss=116]\n",
      "WARNING:root:Serializing RepresentableBlockPredictor instances does not save the prediction network structure in a backwards-compatible manner. Be careful not to use this method in production.\n"
     ]
    }
   ],
   "source": [
    "try:\n",
    "    LSTNetBasicPredictor = Predictor.deserialize(Path(\"./models/LSTNetBasic/\"))\n",
    "    print(\"Loaded from memory\")\n",
    "except:\n",
    "    LSTNetBasicPredictor = LSTNetBasic.train(grouped_train_ds)\n",
    "    LSTNetBasicPredictor.serialize(Path(\"./models/LSTNetBasic/\"))"
   ]
  },
  {
   "cell_type": "markdown",
   "id": "47372650",
   "metadata": {},
   "source": [
    "No further epochs needed as the avg_epoch_loss stagnates!"
   ]
  },
  {
   "cell_type": "code",
   "execution_count": 94,
   "id": "ff2021e3",
   "metadata": {},
   "outputs": [],
   "source": [
    "forecast_it, ts_it = make_evaluation_predictions(\n",
    "    dataset=grouped_test_ds,  # test dataset\n",
    "    predictor=LSTNetBasicPredictor,  # predictor\n",
    "    num_samples=100,  # number of sample paths we want for evaluation\n",
    ")"
   ]
  },
  {
   "cell_type": "code",
   "execution_count": 95,
   "id": "9b185b90",
   "metadata": {},
   "outputs": [
    {
     "data": {
      "text/plain": [
       "521"
      ]
     },
     "execution_count": 95,
     "metadata": {},
     "output_type": "execute_result"
    }
   ],
   "source": [
    "len(next(iter(grouped_test_ds))['target'][0])"
   ]
  },
  {
   "cell_type": "code",
   "execution_count": 96,
   "id": "a51f3e70",
   "metadata": {},
   "outputs": [],
   "source": [
    "LSTNet_forecasts = list(forecast_it)\n",
    "LSTNet_tss = list(ts_it)"
   ]
  },
  {
   "cell_type": "code",
   "execution_count": null,
   "id": "03002e98",
   "metadata": {},
   "outputs": [],
   "source": []
  },
  {
   "cell_type": "code",
   "execution_count": 97,
   "id": "c2ba7afa",
   "metadata": {},
   "outputs": [
    {
     "name": "stdout",
     "output_type": "stream",
     "text": [
      "1\n",
      "Number of sample paths: 100\n",
      "Dimension of samples: (100, 5, 1)\n",
      "Start date of the forecast window: 2021-06-17 00:00:00\n",
      "Frequency of the time series: 1B\n",
      "Mean of the future window:\n",
      " [[15797.593]\n",
      " [15797.409]\n",
      " [15797.593]\n",
      " [15797.51 ]\n",
      " [15797.374]]\n",
      "0.5-quantile (median) of the future window:\n",
      " [[15797.585]\n",
      " [15797.421]\n",
      " [15797.585]\n",
      " [15797.524]\n",
      " [15797.374]]\n"
     ]
    }
   ],
   "source": [
    "print(len(LSTNet_forecasts))\n",
    "# first entry of the forecast list\n",
    "forecast_entry = LSTNet_forecasts[0]\n",
    "ts_entry = LSTNet_tss[0]\n",
    "print(f\"Number of sample paths: {forecast_entry.num_samples}\")\n",
    "print(f\"Dimension of samples: {forecast_entry.samples.shape}\")\n",
    "print(f\"Start date of the forecast window: {forecast_entry.start_date}\")\n",
    "print(f\"Frequency of the time series: {forecast_entry.freq}\")\n",
    "print(f\"Mean of the future window:\\n {forecast_entry.mean}\")\n",
    "print(f\"0.5-quantile (median) of the future window:\\n {forecast_entry.quantile(0.5)}\")"
   ]
  },
  {
   "cell_type": "code",
   "execution_count": null,
   "id": "2fb52145",
   "metadata": {},
   "outputs": [],
   "source": [
    "def plot_prob_forecasts(ts_entry, forecast_entry):\n",
    "    plot_length = nifty_data_metadata['num_steps']\n",
    "    prediction_intervals = (50.0, 90.0)\n",
    "    legend = [\"observations\", \"median prediction\"] + [f\"{k}% prediction interval\" for k in prediction_intervals][::-1]\n",
    "\n",
    "    fig, ax = plt.subplots(1, 1, figsize=(15, 7))\n",
    "    ts_entry[-plot_length:].plot(ax=ax)  # plot the time series\n",
    "    forecast_entry.plot(prediction_intervals=prediction_intervals, color='g')\n",
    "    plt.grid(which=\"both\")\n",
    "    plt.legend(legend, loc=\"upper left\")\n",
    "    plt.show()\n",
    "plot_prob_forecasts(ts_entry[0], forecast_entry)"
   ]
  },
  {
   "cell_type": "code",
   "execution_count": 99,
   "id": "c6124d37",
   "metadata": {},
   "outputs": [
    {
     "name": "stderr",
     "output_type": "stream",
     "text": [
      "100%|██████████| 1/1 [00:00<?, ?it/s]\n",
      "Running evaluation: 100%|██████████| 1/1 [00:02<00:00,  2.62s/it]\n"
     ]
    }
   ],
   "source": [
    "agg_metrics, _ = backtest_metrics(\n",
    "        test_dataset=grouped_test_ds,\n",
    "        predictor=LSTNetBasicPredictor,\n",
    "        evaluator=MyEvaluator(\n",
    "            quantiles=(0.1, 0.5, 0.9)\n",
    "        ),\n",
    "    )"
   ]
  },
  {
   "cell_type": "code",
   "execution_count": 100,
   "id": "335bfaf0",
   "metadata": {},
   "outputs": [
    {
     "name": "stdout",
     "output_type": "stream",
     "text": [
      "{\n",
      "    \"MSE\": 2528.45296875,\n",
      "    \"abs_error\": 1097.9658203125,\n",
      "    \"abs_target_sum\": 78821.796875,\n",
      "    \"abs_target_mean\": 15764.359375,\n",
      "    \"seasonal_error\": 255.02357509784736,\n",
      "    \"MASE\": 0.17221401117778745,\n",
      "    \"MAPE\": 0.0027891135215759276,\n",
      "    \"sMAPE\": 0.002784595787525177,\n",
      "    \"MSIS\": 6.888560447111497,\n",
      "    \"QuantileLoss[0.1]\": 1760.7197265625,\n",
      "    \"Coverage[0.1]\": 0.8,\n",
      "    \"QuantileLoss[0.5]\": 1097.9658203125,\n",
      "    \"Coverage[0.5]\": 0.8,\n",
      "    \"QuantileLoss[0.9]\": 435.2119140625,\n",
      "    \"Coverage[0.9]\": 0.8,\n",
      "    \"RMSE\": 50.28372469050001,\n",
      "    \"NRMSE\": 0.0031897093623888544,\n",
      "    \"ND\": 0.013929723297905977,\n",
      "    \"wQuantileLoss[0.1]\": 0.02233798005588159,\n",
      "    \"wQuantileLoss[0.5]\": 0.013929723297905977,\n",
      "    \"wQuantileLoss[0.9]\": 0.005521466539930361,\n",
      "    \"mean_absolute_QuantileLoss\": 1097.9658203125,\n",
      "    \"mean_wQuantileLoss\": 0.013929723297905976,\n",
      "    \"MAE_Coverage\": 0.3666666666666667,\n",
      "    \"OWA\": NaN,\n",
      "    \"POCID\": 75.0,\n",
      "    \"Theil's U\": 3.933072805404663\n",
      "}\n"
     ]
    }
   ],
   "source": [
    "print(json.dumps(agg_metrics, indent=4))"
   ]
  },
  {
   "cell_type": "code",
   "execution_count": 101,
   "id": "94f985ff",
   "metadata": {},
   "outputs": [
    {
     "name": "stdout",
     "output_type": "stream",
     "text": [
      "2528.45296875 50.28372469050001 0.17221401117778745 0.0027891135215759276\n"
     ]
    }
   ],
   "source": [
    "print(agg_metrics[\"MSE\"], agg_metrics[\"RMSE\"], agg_metrics[\"MASE\"], agg_metrics[\"MAPE\"])"
   ]
  },
  {
   "cell_type": "code",
   "execution_count": null,
   "id": "c784507e",
   "metadata": {},
   "outputs": [],
   "source": []
  },
  {
   "cell_type": "markdown",
   "id": "2e4977ab",
   "metadata": {},
   "source": [
    "# Ensemble"
   ]
  },
  {
   "cell_type": "code",
   "execution_count": 115,
   "id": "07164d27",
   "metadata": {},
   "outputs": [
    {
     "name": "stdout",
     "output_type": "stream",
     "text": [
      "[gluonts.model.forecast.SampleForecast(freq=\"1B\", info=None, item_id=None, samples=numpy.array([[15981.2099609375, 15916.7587890625, 15847.53515625, 15769.7880859375, 15448.828125], [15896.318359375, 15542.865234375, 15716.1201171875, 15769.0859375, 15543.75390625], [15965.435546875, 15875.845703125, 15821.7119140625, 15811.6181640625, 15383.1552734375], [16030.9287109375, 15993.7578125, 15773.7021484375, 16201.28515625, 16317.1669921875], [15597.1279296875, 15890.634765625, 15716.54296875, 16166.2421875, 15337.24609375], [15991.744140625, 15913.052734375, 15988.90625, 15598.609375, 15626.193359375], [15576.3828125, 15615.55859375, 15673.67578125, 15679.4990234375, 15546.27734375], [15692.3662109375, 15731.1904296875, 15675.7041015625, 15859.4443359375, 15726.81640625], [15825.2451171875, 15910.9130859375, 15558.0458984375, 16002.3173828125, 15577.203125], [16117.6474609375, 15839.373046875, 15818.9853515625, 15387.8740234375, 15741.6787109375], [15932.287109375, 15602.8671875, 15774.412109375, 15646.583984375, 15548.466796875], [15834.0869140625, 15820.1376953125, 15703.814453125, 16056.6650390625, 15469.2294921875], [15841.224609375, 15619.6845703125, 15782.73828125, 15875.359375, 15881.98828125], [15808.18359375, 15727.123046875, 15711.7919921875, 16072.0693359375, 15881.8662109375], [15787.9541015625, 15863.220703125, 15893.310546875, 16027.4013671875, 15899.09375], [15805.4033203125, 15404.421875, 15669.68359375, 15835.4560546875, 15852.103515625], [15738.0859375, 15675.65234375, 15120.453125, 15236.5400390625, 15042.7353515625], [15959.6318359375, 15747.9755859375, 15808.767578125, 15434.23046875, 15556.9541015625], [16028.9716796875, 15752.052734375, 15917.572265625, 15545.3837890625, 16308.9052734375], [15813.7861328125, 15866.88671875, 15616.466796875, 15602.53515625, 15804.603515625], [15710.03515625, 15627.10546875, 15395.6181640625, 15466.4482421875, 14944.466796875], [15823.552734375, 16068.302734375, 15984.1513671875, 15838.634765625, 15602.9677734375], [15833.6787109375, 15642.05859375, 15690.42578125, 15638.322265625, 15263.02734375], [15904.259765625, 16015.6240234375, 15878.359375, 15750.4150390625, 15545.462890625], [15817.2080078125, 15694.45703125, 15691.291015625, 15623.921875, 15269.3173828125], [15860.162109375, 15755.609375, 15727.921875, 15534.3349609375, 15721.12890625], [15694.2763671875, 15669.7451171875, 16167.5263671875, 15937.404296875, 15840.75], [15847.6025390625, 15422.3037109375, 15987.701171875, 15717.4501953125, 15701.6708984375], [16000.44140625, 15968.337890625, 15576.6689453125, 15588.025390625, 15105.1982421875], [15862.5595703125, 15480.48828125, 15972.4130859375, 15952.9052734375, 15860.048828125], [15906.9716796875, 15814.9384765625, 16007.8369140625, 16190.744140625, 15548.2265625], [15697.0751953125, 16094.611328125, 15711.5263671875, 15700.58203125, 15832.0400390625], [15871.9287109375, 15930.0107421875, 15906.5849609375, 15839.9814453125, 15680.3134765625], [16198.1044921875, 16069.8056640625, 16293.16015625, 15923.078125, 16063.060546875], [15445.7861328125, 15571.7177734375, 15560.806640625, 15751.099609375, 15276.8828125], [15676.8466796875, 15663.1015625, 15560.2861328125, 15238.443359375, 15664.7021484375], [15866.9189453125, 16114.9189453125, 15841.640625, 15932.71484375, 15771.7998046875], [15534.83984375, 15883.68359375, 16113.7041015625, 15765.7666015625, 15433.43359375], [15866.7548828125, 15688.6298828125, 16195.484375, 15917.14453125, 15701.6552734375], [15867.7001953125, 15770.9345703125, 15569.2685546875, 15487.26953125, 15435.8701171875], [15696.16796875, 15903.0087890625, 15837.9755859375, 15558.00390625, 15510.2666015625], [16076.259765625, 15886.041015625, 15739.3720703125, 15417.125, 15146.001953125], [16046.681640625, 15899.00390625, 15819.896484375, 15880.4580078125, 15496.6650390625], [15296.21484375, 15768.3740234375, 15827.69921875, 15846.6650390625, 15754.4638671875], [15753.5791015625, 15717.3017578125, 15634.166015625, 15763.9736328125, 15929.3125], [15889.26171875, 16040.48828125, 15943.986328125, 16011.38671875, 15700.0341796875], [15837.59765625, 15876.1201171875, 15639.47265625, 15692.166015625, 15870.896484375], [15828.2373046875, 16045.4072265625, 16102.041015625, 15777.990234375, 15530.0927734375], [16061.1787109375, 16289.4248046875, 15831.5693359375, 16145.6640625, 15809.69140625], [15927.5986328125, 16029.11328125, 15875.853515625, 15527.9150390625, 15561.875], [15877.9189453125, 16176.0703125, 15880.7021484375, 15769.8642578125, 15583.2841796875], [15898.15234375, 15615.357421875, 15478.54296875, 15428.478515625, 15702.8828125], [15465.46484375, 15681.11328125, 15312.3896484375, 15902.78515625, 15912.3720703125], [15694.6796875, 15797.9306640625, 15678.65625, 15107.53515625, 14891.12890625], [15685.083984375, 15659.515625, 15717.5966796875, 15262.169921875, 15782.751953125], [15853.8515625, 15867.2900390625, 15898.8173828125, 15816.072265625, 16058.8271484375], [15692.0556640625, 15785.6318359375, 15777.439453125, 15550.912109375, 15378.619140625], [15854.59375, 16071.74609375, 15912.15234375, 15962.9140625, 15757.498046875], [15923.083984375, 16072.7197265625, 15919.0107421875, 16190.2626953125, 15603.5498046875], [15998.9345703125, 15863.6025390625, 15700.3310546875, 15781.8037109375, 15866.0400390625], [15818.9794921875, 16016.267578125, 15767.66796875, 15688.39453125, 15735.09765625], [16006.064453125, 16370.8447265625, 15946.6474609375, 15940.8525390625, 15651.44140625], [16113.7080078125, 15646.7958984375, 15713.7265625, 15699.21484375, 15534.7373046875], [15930.3759765625, 15614.4189453125, 15813.2646484375, 15604.451171875, 15263.916015625], [15861.6953125, 15729.31640625, 15859.78515625, 15444.9306640625, 16135.177734375], [16130.572265625, 15954.814453125, 15899.0283203125, 15752.6533203125, 15592.9912109375], [15776.1533203125, 16084.353515625, 15846.5859375, 15647.8251953125, 15516.53515625], [15807.5693359375, 15994.8447265625, 15571.158203125, 15706.541015625, 15740.5517578125], [15665.6220703125, 15368.2109375, 15460.6416015625, 15766.2958984375, 15968.71484375], [15767.2890625, 15940.50390625, 15474.3779296875, 16104.4248046875, 15745.7978515625], [15526.45703125, 15324.7138671875, 15305.2236328125, 15478.3271484375, 15400.7607421875], [15886.4560546875, 15982.169921875, 15553.9697265625, 15650.447265625, 15427.5078125], [15676.16796875, 15624.8662109375, 15545.787109375, 15800.43359375, 15670.4794921875], [15895.19921875, 15520.640625, 15223.96484375, 15359.7734375, 15464.177734375], [15687.2802734375, 15963.8408203125, 15871.216796875, 15634.7646484375, 15327.958984375], [15644.2978515625, 15865.9755859375, 15692.755859375, 15634.775390625, 15776.9013671875], [16073.9130859375, 15884.5009765625, 15740.130859375, 15872.8701171875, 15578.283203125], [15695.990234375, 15678.34375, 15828.58984375, 15448.7353515625, 15639.2705078125], [16042.1337890625, 15969.08984375, 16061.689453125, 15946.9765625, 15940.1181640625], [15773.673828125, 15773.06640625, 15618.21484375, 15410.9794921875, 15658.5078125], [15923.25, 15797.708984375, 16015.8740234375, 15912.2138671875, 15626.140625], [15987.3984375, 15887.2978515625, 15891.568359375, 15728.3291015625, 15883.7509765625], [15843.6611328125, 16040.4033203125, 15643.5439453125, 15870.158203125, 15794.8779296875], [15524.3076171875, 15649.7216796875, 15968.8017578125, 15503.5361328125, 15450.0830078125], [15816.4736328125, 15821.763671875, 15153.8740234375, 15649.4873046875, 15768.6455078125], [15891.19921875, 15570.611328125, 15239.029296875, 15670.0263671875, 15425.4541015625], [15851.474609375, 15862.4560546875, 15983.7314453125, 15675.3310546875, 16231.900390625], [15892.6875, 15789.4921875, 15765.6572265625, 15694.79296875, 15819.28515625], [16081.35546875, 15762.708984375, 15813.1005859375, 15804.2734375, 15285.4814453125], [15668.8876953125, 15586.2763671875, 15760.50390625, 15574.16015625, 15547.4833984375], [15637.7705078125, 15663.8515625, 15836.84375, 16074.890625, 15782.0576171875], [16058.4580078125, 15766.259765625, 15911.361328125, 15704.53515625, 15446.0224609375], [15816.7197265625, 15855.79296875, 16087.947265625, 15730.36328125, 15752.828125], [15833.474609375, 15741.9931640625, 15965.2060546875, 16041.6044921875, 15635.6357421875], [16071.36328125, 15940.5, 15706.7333984375, 15480.26953125, 15651.43359375], [15788.8837890625, 15847.0771484375, 15634.525390625, 15508.5517578125, 15616.1767578125], [15948.703125, 15834.9453125, 15723.875, 15991.2998046875, 15646.6494140625], [15712.71484375, 16093.98828125, 15912.47265625, 15582.6943359375, 15768.9365234375], [16039.6728515625, 16195.5185546875, 16072.0849609375, 16181.6884765625, 15936.203125], [15589.396484375, 15504.904296875, 15746.02734375, 15407.6748046875, 15915.791015625]], numpy.dtype(\"float32\")), start_date=pandas.Timestamp(\"2021-06-17 00:00:00\", freq=\"B\"))]\n",
      "[                       0\n",
      "2019-06-26  11847.549805\n",
      "2019-06-27  11841.549805\n",
      "2019-06-28  11788.849609\n",
      "2019-07-01  11865.599609\n",
      "2019-07-02  11910.299805\n",
      "...                  ...\n",
      "2021-06-17  15824.450195\n",
      "2021-06-18  15746.450195\n",
      "2021-06-21  15709.400391\n",
      "2021-06-22  15778.450195\n",
      "2021-06-23  15763.049805\n",
      "\n",
      "[521 rows x 1 columns]]\n",
      "[gluonts.model.forecast.SampleForecast(freq=\"1B\", info=None, item_id=None, samples=numpy.array([[[15797.5849609375], [15797.4208984375], [15797.5849609375], [15797.5244140625], [15797.3740234375]], [[15797.5849609375], [15797.4208984375], [15797.5849609375], [15797.5244140625], [15797.3740234375]], [[15797.5849609375], [15797.4208984375], [15797.5849609375], [15797.5244140625], [15797.3740234375]], [[15797.5849609375], [15797.4208984375], [15797.5849609375], [15797.5244140625], [15797.3740234375]], [[15797.5849609375], [15797.4208984375], [15797.5849609375], [15797.5244140625], [15797.3740234375]], [[15797.5849609375], [15797.4208984375], [15797.5849609375], [15797.5244140625], [15797.3740234375]], [[15797.5849609375], [15797.4208984375], [15797.5849609375], [15797.5244140625], [15797.3740234375]], [[15797.5849609375], [15797.4208984375], [15797.5849609375], [15797.5244140625], [15797.3740234375]], [[15797.5849609375], [15797.4208984375], [15797.5849609375], [15797.5244140625], [15797.3740234375]], [[15797.5849609375], [15797.4208984375], [15797.5849609375], [15797.5244140625], [15797.3740234375]], [[15797.5849609375], [15797.4208984375], [15797.5849609375], [15797.5244140625], [15797.3740234375]], [[15797.5849609375], [15797.4208984375], [15797.5849609375], [15797.5244140625], [15797.3740234375]], [[15797.5849609375], [15797.4208984375], [15797.5849609375], [15797.5244140625], [15797.3740234375]], [[15797.5849609375], [15797.4208984375], [15797.5849609375], [15797.5244140625], [15797.3740234375]], [[15797.5849609375], [15797.4208984375], [15797.5849609375], [15797.5244140625], [15797.3740234375]], [[15797.5849609375], [15797.4208984375], [15797.5849609375], [15797.5244140625], [15797.3740234375]], [[15797.5849609375], [15797.4208984375], [15797.5849609375], [15797.5244140625], [15797.3740234375]], [[15797.5849609375], [15797.4208984375], [15797.5849609375], [15797.5244140625], [15797.3740234375]], [[15797.5849609375], [15797.4208984375], [15797.5849609375], [15797.5244140625], [15797.3740234375]], [[15797.5849609375], [15797.4208984375], [15797.5849609375], [15797.5244140625], [15797.3740234375]], [[15797.5849609375], [15797.4208984375], [15797.5849609375], [15797.5244140625], [15797.3740234375]], [[15797.5849609375], [15797.4208984375], [15797.5849609375], [15797.5244140625], [15797.3740234375]], [[15797.5849609375], [15797.4208984375], [15797.5849609375], [15797.5244140625], [15797.3740234375]], [[15797.5849609375], [15797.4208984375], [15797.5849609375], [15797.5244140625], [15797.3740234375]], [[15797.5849609375], [15797.4208984375], [15797.5849609375], [15797.5244140625], [15797.3740234375]], [[15797.5849609375], [15797.4208984375], [15797.5849609375], [15797.5244140625], [15797.3740234375]], [[15797.5849609375], [15797.4208984375], [15797.5849609375], [15797.5244140625], [15797.3740234375]], [[15797.5849609375], [15797.4208984375], [15797.5849609375], [15797.5244140625], [15797.3740234375]], [[15797.5849609375], [15797.4208984375], [15797.5849609375], [15797.5244140625], [15797.3740234375]], [[15797.5849609375], [15797.4208984375], [15797.5849609375], [15797.5244140625], [15797.3740234375]], [[15797.5849609375], [15797.4208984375], [15797.5849609375], [15797.5244140625], [15797.3740234375]], [[15797.5849609375], [15797.4208984375], [15797.5849609375], [15797.5244140625], [15797.3740234375]], [[15797.5849609375], [15797.4208984375], [15797.5849609375], [15797.5244140625], [15797.3740234375]], [[15797.5849609375], [15797.4208984375], [15797.5849609375], [15797.5244140625], [15797.3740234375]], [[15797.5849609375], [15797.4208984375], [15797.5849609375], [15797.5244140625], [15797.3740234375]], [[15797.5849609375], [15797.4208984375], [15797.5849609375], [15797.5244140625], [15797.3740234375]], [[15797.5849609375], [15797.4208984375], [15797.5849609375], [15797.5244140625], [15797.3740234375]], [[15797.5849609375], [15797.4208984375], [15797.5849609375], [15797.5244140625], [15797.3740234375]], [[15797.5849609375], [15797.4208984375], [15797.5849609375], [15797.5244140625], [15797.3740234375]], [[15797.5849609375], [15797.4208984375], [15797.5849609375], [15797.5244140625], [15797.3740234375]], [[15797.5849609375], [15797.4208984375], [15797.5849609375], [15797.5244140625], [15797.3740234375]], [[15797.5849609375], [15797.4208984375], [15797.5849609375], [15797.5244140625], [15797.3740234375]], [[15797.5849609375], [15797.4208984375], [15797.5849609375], [15797.5244140625], [15797.3740234375]], [[15797.5849609375], [15797.4208984375], [15797.5849609375], [15797.5244140625], [15797.3740234375]], [[15797.5849609375], [15797.4208984375], [15797.5849609375], [15797.5244140625], [15797.3740234375]], [[15797.5849609375], [15797.4208984375], [15797.5849609375], [15797.5244140625], [15797.3740234375]], [[15797.5849609375], [15797.4208984375], [15797.5849609375], [15797.5244140625], [15797.3740234375]], [[15797.5849609375], [15797.4208984375], [15797.5849609375], [15797.5244140625], [15797.3740234375]], [[15797.5849609375], [15797.4208984375], [15797.5849609375], [15797.5244140625], [15797.3740234375]], [[15797.5849609375], [15797.4208984375], [15797.5849609375], [15797.5244140625], [15797.3740234375]], [[15797.5849609375], [15797.4208984375], [15797.5849609375], [15797.5244140625], [15797.3740234375]], [[15797.5849609375], [15797.4208984375], [15797.5849609375], [15797.5244140625], [15797.3740234375]], [[15797.5849609375], [15797.4208984375], [15797.5849609375], [15797.5244140625], [15797.3740234375]], [[15797.5849609375], [15797.4208984375], [15797.5849609375], [15797.5244140625], [15797.3740234375]], [[15797.5849609375], [15797.4208984375], [15797.5849609375], [15797.5244140625], [15797.3740234375]], [[15797.5849609375], [15797.4208984375], [15797.5849609375], [15797.5244140625], [15797.3740234375]], [[15797.5849609375], [15797.4208984375], [15797.5849609375], [15797.5244140625], [15797.3740234375]], [[15797.5849609375], [15797.4208984375], [15797.5849609375], [15797.5244140625], [15797.3740234375]], [[15797.5849609375], [15797.4208984375], [15797.5849609375], [15797.5244140625], [15797.3740234375]], [[15797.5849609375], [15797.4208984375], [15797.5849609375], [15797.5244140625], [15797.3740234375]], [[15797.5849609375], [15797.4208984375], [15797.5849609375], [15797.5244140625], [15797.3740234375]], [[15797.5849609375], [15797.4208984375], [15797.5849609375], [15797.5244140625], [15797.3740234375]], [[15797.5849609375], [15797.4208984375], [15797.5849609375], [15797.5244140625], [15797.3740234375]], [[15797.5849609375], [15797.4208984375], [15797.5849609375], [15797.5244140625], [15797.3740234375]], [[15797.5849609375], [15797.4208984375], [15797.5849609375], [15797.5244140625], [15797.3740234375]], [[15797.5849609375], [15797.4208984375], [15797.5849609375], [15797.5244140625], [15797.3740234375]], [[15797.5849609375], [15797.4208984375], [15797.5849609375], [15797.5244140625], [15797.3740234375]], [[15797.5849609375], [15797.4208984375], [15797.5849609375], [15797.5244140625], [15797.3740234375]], [[15797.5849609375], [15797.4208984375], [15797.5849609375], [15797.5244140625], [15797.3740234375]], [[15797.5849609375], [15797.4208984375], [15797.5849609375], [15797.5244140625], [15797.3740234375]], [[15797.5849609375], [15797.4208984375], [15797.5849609375], [15797.5244140625], [15797.3740234375]], [[15797.5849609375], [15797.4208984375], [15797.5849609375], [15797.5244140625], [15797.3740234375]], [[15797.5849609375], [15797.4208984375], [15797.5849609375], [15797.5244140625], [15797.3740234375]], [[15797.5849609375], [15797.4208984375], [15797.5849609375], [15797.5244140625], [15797.3740234375]], [[15797.5849609375], [15797.4208984375], [15797.5849609375], [15797.5244140625], [15797.3740234375]], [[15797.5849609375], [15797.4208984375], [15797.5849609375], [15797.5244140625], [15797.3740234375]], [[15797.5849609375], [15797.4208984375], [15797.5849609375], [15797.5244140625], [15797.3740234375]], [[15797.5849609375], [15797.4208984375], [15797.5849609375], [15797.5244140625], [15797.3740234375]], [[15797.5849609375], [15797.4208984375], [15797.5849609375], [15797.5244140625], [15797.3740234375]], [[15797.5849609375], [15797.4208984375], [15797.5849609375], [15797.5244140625], [15797.3740234375]], [[15797.5849609375], [15797.4208984375], [15797.5849609375], [15797.5244140625], [15797.3740234375]], [[15797.5849609375], [15797.4208984375], [15797.5849609375], [15797.5244140625], [15797.3740234375]], [[15797.5849609375], [15797.4208984375], [15797.5849609375], [15797.5244140625], [15797.3740234375]], [[15797.5849609375], [15797.4208984375], [15797.5849609375], [15797.5244140625], [15797.3740234375]], [[15797.5849609375], [15797.4208984375], [15797.5849609375], [15797.5244140625], [15797.3740234375]], [[15797.5849609375], [15797.4208984375], [15797.5849609375], [15797.5244140625], [15797.3740234375]], [[15797.5849609375], [15797.4208984375], [15797.5849609375], [15797.5244140625], [15797.3740234375]], [[15797.5849609375], [15797.4208984375], [15797.5849609375], [15797.5244140625], [15797.3740234375]], [[15797.5849609375], [15797.4208984375], [15797.5849609375], [15797.5244140625], [15797.3740234375]], [[15797.5849609375], [15797.4208984375], [15797.5849609375], [15797.5244140625], [15797.3740234375]], [[15797.5849609375], [15797.4208984375], [15797.5849609375], [15797.5244140625], [15797.3740234375]], [[15797.5849609375], [15797.4208984375], [15797.5849609375], [15797.5244140625], [15797.3740234375]], [[15797.5849609375], [15797.4208984375], [15797.5849609375], [15797.5244140625], [15797.3740234375]], [[15797.5849609375], [15797.4208984375], [15797.5849609375], [15797.5244140625], [15797.3740234375]], [[15797.5849609375], [15797.4208984375], [15797.5849609375], [15797.5244140625], [15797.3740234375]], [[15797.5849609375], [15797.4208984375], [15797.5849609375], [15797.5244140625], [15797.3740234375]], [[15797.5849609375], [15797.4208984375], [15797.5849609375], [15797.5244140625], [15797.3740234375]], [[15797.5849609375], [15797.4208984375], [15797.5849609375], [15797.5244140625], [15797.3740234375]], [[15797.5849609375], [15797.4208984375], [15797.5849609375], [15797.5244140625], [15797.3740234375]], [[15797.5849609375], [15797.4208984375], [15797.5849609375], [15797.5244140625], [15797.3740234375]]], numpy.dtype(\"float32\")), start_date=pandas.Timestamp(\"2021-06-17 00:00:00\", freq=\"B\"))]\n",
      "[                       0\n",
      "2019-06-26  11847.549805\n",
      "2019-06-27  11841.549805\n",
      "2019-06-28  11788.849609\n",
      "2019-07-01  11865.599609\n",
      "2019-07-02  11910.299805\n",
      "...                  ...\n",
      "2021-06-17  15824.450195\n",
      "2021-06-18  15746.450195\n",
      "2021-06-21  15709.400391\n",
      "2021-06-22  15778.450195\n",
      "2021-06-23  15763.049805\n",
      "\n",
      "[521 rows x 1 columns]]\n"
     ]
    }
   ],
   "source": [
    "print(deepAR_forecasts)\n",
    "print(deepAR_tss)\n",
    "print(LSTNet_forecasts)\n",
    "print(LSTNet_tss)"
   ]
  },
  {
   "cell_type": "code",
   "execution_count": 148,
   "id": "2cdc19ef",
   "metadata": {},
   "outputs": [
    {
     "name": "stdout",
     "output_type": "stream",
     "text": [
      "1\n"
     ]
    }
   ],
   "source": [
    "ensemble_forecasts = LSTNet_forecasts\n",
    "ensemble_tss = deepAR_tss    # Picking from DeepAR as we'll ungroup LSTNet_forecasts\n",
    "print(len(ensemble_forecasts))\n",
    "ensemble_forecasts[0].samples = (np.divide(np.add(deepAR_forecasts[0].samples,\n",
    "                     LSTNet_forecasts[0].samples.reshape(100,5)), 2))"
   ]
  },
  {
   "cell_type": "code",
   "execution_count": 149,
   "id": "d8f64261",
   "metadata": {},
   "outputs": [
    {
     "name": "stdout",
     "output_type": "stream",
     "text": [
      "1\n",
      "Number of sample paths: 100\n",
      "Dimension of samples: (100, 5)\n",
      "Start date of the forecast window: 2021-06-17 00:00:00\n",
      "Frequency of the time series: 1B\n",
      "Mean of the future window:\n",
      " [15831.42  15815.622 15769.746 15739.723 15662.791]\n",
      "0.5-quantile (median) of the future window:\n",
      " [[15797.585]\n",
      " [15797.421]\n",
      " [15797.585]\n",
      " [15797.524]\n",
      " [15797.374]]\n"
     ]
    }
   ],
   "source": [
    "print(len(ensemble_forecasts))\n",
    "# first entry of the forecast list\n",
    "forecast_entry = ensemble_forecasts[0]\n",
    "ts_entry = ensemble_tss[0]\n",
    "print(f\"Number of sample paths: {forecast_entry.num_samples}\")\n",
    "print(f\"Dimension of samples: {forecast_entry.samples.shape}\")\n",
    "print(f\"Start date of the forecast window: {forecast_entry.start_date}\")\n",
    "print(f\"Frequency of the time series: {forecast_entry.freq}\")\n",
    "print(f\"Mean of the future window:\\n {forecast_entry.mean}\")\n",
    "print(f\"0.5-quantile (median) of the future window:\\n {forecast_entry.quantile(0.5)}\")"
   ]
  },
  {
   "cell_type": "code",
   "execution_count": null,
   "id": "f3316835",
   "metadata": {},
   "outputs": [],
   "source": [
    "def plot_prob_forecasts(ts_entry, forecast_entry):\n",
    "    plot_length = nifty_data_metadata['num_steps']\n",
    "    prediction_intervals = (50.0, 90.0)\n",
    "    legend = [\"observations\", \"median prediction\"] + [f\"{k}% prediction interval\" for k in prediction_intervals][::-1]\n",
    "\n",
    "    fig, ax = plt.subplots(1, 1, figsize=(15, 7))\n",
    "    ts_entry[-plot_length:].plot(ax=ax)  # plot the time series\n",
    "    forecast_entry.plot(prediction_intervals=prediction_intervals, color='g')\n",
    "    plt.grid(which=\"both\")\n",
    "    plt.legend(legend, loc=\"upper left\")\n",
    "    plt.show()\n",
    "plot_prob_forecasts(ts_entry, forecast_entry)"
   ]
  },
  {
   "cell_type": "code",
   "execution_count": 151,
   "id": "cc0dc2e7",
   "metadata": {},
   "outputs": [
    {
     "name": "stderr",
     "output_type": "stream",
     "text": [
      "Running evaluation: 100%|██████████| 1/1 [00:00<00:00, 62.52it/s]\n"
     ]
    }
   ],
   "source": [
    "from gluonts.evaluation import MultivariateEvaluator\n",
    "evaluator = MyEvaluator(quantiles=[0.1, 0.5, 0.9])\n",
    "# Don't need the grouped test ds as we removed the grouping while averaging forecasts\n",
    "agg_metrics, item_metrics = evaluator(iter(ensemble_tss), iter(ensemble_forecasts), num_series=len(test_ds))"
   ]
  },
  {
   "cell_type": "code",
   "execution_count": 152,
   "id": "302ab59c",
   "metadata": {},
   "outputs": [
    {
     "name": "stdout",
     "output_type": "stream",
     "text": [
      "{\n",
      "    \"MSE\": 4005.315625,\n",
      "    \"abs_error\": 1097.9658203125,\n",
      "    \"abs_target_sum\": 78821.796875,\n",
      "    \"abs_target_mean\": 15764.359375,\n",
      "    \"seasonal_error\": 255.02357509784736,\n",
      "    \"MASE\": 0.17221401117778745,\n",
      "    \"MAPE\": 0.0027891135215759276,\n",
      "    \"sMAPE\": 0.002784595787525177,\n",
      "    \"MSIS\": 6.888560447111497,\n",
      "    \"QuantileLoss[0.1]\": 1760.7197265625,\n",
      "    \"Coverage[0.1]\": 0.8,\n",
      "    \"QuantileLoss[0.5]\": 1097.9658203125,\n",
      "    \"Coverage[0.5]\": 0.8,\n",
      "    \"QuantileLoss[0.9]\": 435.2119140625,\n",
      "    \"Coverage[0.9]\": 0.8,\n",
      "    \"RMSE\": 63.2875629567137,\n",
      "    \"NRMSE\": 0.004014597831173441,\n",
      "    \"ND\": 0.013929723297905977,\n",
      "    \"wQuantileLoss[0.1]\": 0.02233798005588159,\n",
      "    \"wQuantileLoss[0.5]\": 0.013929723297905977,\n",
      "    \"wQuantileLoss[0.9]\": 0.005521466539930361,\n",
      "    \"mean_absolute_QuantileLoss\": 1097.9658203125,\n",
      "    \"mean_wQuantileLoss\": 0.013929723297905976,\n",
      "    \"MAE_Coverage\": 0.3666666666666667,\n",
      "    \"OWA\": NaN,\n",
      "    \"POCID\": 75.0,\n",
      "    \"Theil's U\": 3.933072805404663\n",
      "}\n"
     ]
    }
   ],
   "source": [
    "print(json.dumps(agg_metrics, indent=4))"
   ]
  },
  {
   "cell_type": "code",
   "execution_count": 153,
   "id": "c11ce967",
   "metadata": {},
   "outputs": [
    {
     "name": "stdout",
     "output_type": "stream",
     "text": [
      "4005.315625 63.2875629567137 0.17221401117778745 0.0027891135215759276\n"
     ]
    }
   ],
   "source": [
    "print(agg_metrics[\"MSE\"], agg_metrics[\"RMSE\"], agg_metrics[\"MASE\"], agg_metrics[\"MAPE\"])"
   ]
  },
  {
   "cell_type": "code",
   "execution_count": null,
   "id": "8c2fe1d6",
   "metadata": {},
   "outputs": [],
   "source": []
  }
 ],
 "metadata": {
  "kernelspec": {
   "display_name": "Python 3 (ipykernel)",
   "language": "python",
   "name": "python3"
  },
  "language_info": {
   "codemirror_mode": {
    "name": "ipython",
    "version": 3
   },
   "file_extension": ".py",
   "mimetype": "text/x-python",
   "name": "python",
   "nbconvert_exporter": "python",
   "pygments_lexer": "ipython3",
   "version": "3.8.12"
  }
 },
 "nbformat": 4,
 "nbformat_minor": 5
}
